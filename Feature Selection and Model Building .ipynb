{
 "cells": [
  {
   "cell_type": "code",
   "execution_count": 9,
   "metadata": {},
   "outputs": [],
   "source": [
    "#importing libraries to be in used\n",
    "import pandas as pd\n",
    "import numpy as np\n",
    "import seaborn as sns"
   ]
  },
  {
   "cell_type": "code",
   "execution_count": 10,
   "metadata": {},
   "outputs": [],
   "source": [
    "incident=pd.read_csv(\"E:\\\\Excel R\\\\Project Servicenow\\\\train.csv\\\\train.csv\")"
   ]
  },
  {
   "cell_type": "code",
   "execution_count": 11,
   "metadata": {},
   "outputs": [],
   "source": [
    "incident.replace('?', np.nan,inplace=True)"
   ]
  },
  {
   "cell_type": "code",
   "execution_count": 12,
   "metadata": {},
   "outputs": [
    {
     "data": {
      "text/plain": [
       "Unnamed: 0                0\n",
       "ID                        0\n",
       "ID_status                 0\n",
       "active                    0\n",
       "count_reassign            0\n",
       "count_opening             0\n",
       "count_updated             0\n",
       "ID_caller                22\n",
       "opened_by              3328\n",
       "opened_time               0\n",
       "Created_by            37174\n",
       "created_at            37174\n",
       "updated_by                0\n",
       "updated_at                0\n",
       "type_contact              0\n",
       "location                 54\n",
       "category_ID              56\n",
       "user_symptom          23139\n",
       "Support_group          9994\n",
       "support_incharge      19302\n",
       "Doc_knowledge             0\n",
       "confirmation_check        0\n",
       "impact                    0\n",
       "notify                    0\n",
       "problem_ID            97620\n",
       "change_request        98512\n",
       "dtype: int64"
      ]
     },
     "execution_count": 12,
     "metadata": {},
     "output_type": "execute_result"
    }
   ],
   "source": [
    "#Calculating missing values\n",
    "incident.isna().sum()"
   ]
  },
  {
   "cell_type": "markdown",
   "metadata": {},
   "source": [
    "## Label Encoding"
   ]
  },
  {
   "cell_type": "code",
   "execution_count": 13,
   "metadata": {},
   "outputs": [],
   "source": [
    "cat_new=incident.select_dtypes(include=object)"
   ]
  },
  {
   "cell_type": "code",
   "execution_count": 14,
   "metadata": {},
   "outputs": [
    {
     "data": {
      "text/plain": [
       "Index(['ID', 'ID_status', 'ID_caller', 'opened_by', 'opened_time',\n",
       "       'Created_by', 'created_at', 'updated_by', 'updated_at', 'type_contact',\n",
       "       'location', 'category_ID', 'user_symptom', 'Support_group',\n",
       "       'support_incharge', 'impact', 'notify', 'problem_ID', 'change_request'],\n",
       "      dtype='object')"
      ]
     },
     "execution_count": 14,
     "metadata": {},
     "output_type": "execute_result"
    }
   ],
   "source": [
    "cat_new.columns"
   ]
  },
  {
   "cell_type": "code",
   "execution_count": 15,
   "metadata": {},
   "outputs": [
    {
     "name": "stderr",
     "output_type": "stream",
     "text": [
      "C:\\Users\\sedulous\\Anaconda3\\lib\\site-packages\\pandas\\core\\frame.py:3940: SettingWithCopyWarning: \n",
      "A value is trying to be set on a copy of a slice from a DataFrame\n",
      "\n",
      "See the caveats in the documentation: http://pandas.pydata.org/pandas-docs/stable/indexing.html#indexing-view-versus-copy\n",
      "  errors=errors)\n"
     ]
    }
   ],
   "source": [
    "#Dropping features having significant missing values\n",
    "cat_new.drop([\"opened_time\",\"created_at\",\"updated_at\",\"problem_ID\", \"change_request\",\"problem_ID\", \"change_request\"],axis=1,inplace=True)"
   ]
  },
  {
   "cell_type": "code",
   "execution_count": 16,
   "metadata": {},
   "outputs": [],
   "source": [
    "cat_new.drop([\"Created_by\"],axis=1,inplace=True)"
   ]
  },
  {
   "cell_type": "code",
   "execution_count": 17,
   "metadata": {},
   "outputs": [],
   "source": [
    "from sklearn.base import BaseEstimator, TransformerMixin\n",
    "from sklearn.preprocessing import LabelEncoder"
   ]
  },
  {
   "cell_type": "code",
   "execution_count": 18,
   "metadata": {},
   "outputs": [],
   "source": [
    "label=LabelEncoder()"
   ]
  },
  {
   "cell_type": "code",
   "execution_count": 19,
   "metadata": {},
   "outputs": [],
   "source": [
    "df_temp = cat_new.astype(\"str\").apply(LabelEncoder().fit_transform)"
   ]
  },
  {
   "cell_type": "code",
   "execution_count": 20,
   "metadata": {},
   "outputs": [],
   "source": [
    "df_final = df_temp.where(~cat_new.isna(), cat_new)"
   ]
  },
  {
   "cell_type": "code",
   "execution_count": 21,
   "metadata": {},
   "outputs": [
    {
     "data": {
      "text/plain": [
       "Index(['ID', 'ID_status', 'ID_caller', 'opened_by', 'updated_by',\n",
       "       'type_contact', 'location', 'category_ID', 'user_symptom',\n",
       "       'Support_group', 'support_incharge', 'impact', 'notify'],\n",
       "      dtype='object')"
      ]
     },
     "execution_count": 21,
     "metadata": {},
     "output_type": "execute_result"
    }
   ],
   "source": [
    "df_final.columns"
   ]
  },
  {
   "cell_type": "code",
   "execution_count": 22,
   "metadata": {},
   "outputs": [
    {
     "data": {
      "text/plain": [
       "ID                      0\n",
       "ID_status               0\n",
       "ID_caller              22\n",
       "opened_by            3328\n",
       "updated_by              0\n",
       "type_contact            0\n",
       "location               54\n",
       "category_ID            56\n",
       "user_symptom        23139\n",
       "Support_group        9994\n",
       "support_incharge    19302\n",
       "impact                  0\n",
       "notify                  0\n",
       "dtype: int64"
      ]
     },
     "execution_count": 22,
     "metadata": {},
     "output_type": "execute_result"
    }
   ],
   "source": [
    "df_final.isna().sum()"
   ]
  },
  {
   "cell_type": "code",
   "execution_count": 23,
   "metadata": {},
   "outputs": [
    {
     "name": "stdout",
     "output_type": "stream",
     "text": [
      "<class 'pandas.core.frame.DataFrame'>\n",
      "RangeIndex: 99198 entries, 0 to 99197\n",
      "Data columns (total 13 columns):\n",
      "ID                  99198 non-null int64\n",
      "ID_status           99198 non-null int64\n",
      "ID_caller           99176 non-null object\n",
      "opened_by           95870 non-null object\n",
      "updated_by          99198 non-null int64\n",
      "type_contact        99198 non-null int64\n",
      "location            99144 non-null object\n",
      "category_ID         99142 non-null object\n",
      "user_symptom        76059 non-null object\n",
      "Support_group       89204 non-null object\n",
      "support_incharge    79896 non-null object\n",
      "impact              99198 non-null int64\n",
      "notify              99198 non-null int64\n",
      "dtypes: int64(6), object(7)\n",
      "memory usage: 9.8+ MB\n"
     ]
    }
   ],
   "source": [
    "df_final.info()"
   ]
  },
  {
   "cell_type": "code",
   "execution_count": 24,
   "metadata": {},
   "outputs": [],
   "source": [
    "#Imputation using knn or randomforest regressor"
   ]
  },
  {
   "cell_type": "code",
   "execution_count": 25,
   "metadata": {},
   "outputs": [],
   "source": [
    "df_final.dropna(subset=['category_ID','ID_caller','location'],inplace=True)"
   ]
  },
  {
   "cell_type": "code",
   "execution_count": 26,
   "metadata": {},
   "outputs": [],
   "source": [
    "nonull=df_final[pd.isnull(df_final['opened_by'])==False]"
   ]
  },
  {
   "cell_type": "code",
   "execution_count": 27,
   "metadata": {},
   "outputs": [],
   "source": [
    "null=df_final[pd.isnull(df_final['opened_by'])]"
   ]
  },
  {
   "cell_type": "code",
   "execution_count": 28,
   "metadata": {},
   "outputs": [],
   "source": [
    "from sklearn.neighbors import KNeighborsRegressor"
   ]
  },
  {
   "cell_type": "code",
   "execution_count": 29,
   "metadata": {},
   "outputs": [],
   "source": [
    "knn_model= KNeighborsRegressor()"
   ]
  },
  {
   "cell_type": "code",
   "execution_count": 30,
   "metadata": {},
   "outputs": [],
   "source": [
    "independent_var=['ID', 'ID_status', 'ID_caller', 'updated_by',\n",
    "       'type_contact', 'location', 'category_ID','impact', 'notify']"
   ]
  },
  {
   "cell_type": "code",
   "execution_count": 31,
   "metadata": {},
   "outputs": [
    {
     "data": {
      "text/plain": [
       "KNeighborsRegressor(algorithm='auto', leaf_size=30, metric='minkowski',\n",
       "                    metric_params=None, n_jobs=None, n_neighbors=5, p=2,\n",
       "                    weights='uniform')"
      ]
     },
     "execution_count": 31,
     "metadata": {},
     "output_type": "execute_result"
    }
   ],
   "source": [
    "knn_model.fit(nonull[independent_var],nonull['opened_by'])"
   ]
  },
  {
   "cell_type": "code",
   "execution_count": 32,
   "metadata": {},
   "outputs": [],
   "source": [
    "prediction=knn_model.predict(X=null[independent_var])"
   ]
  },
  {
   "cell_type": "code",
   "execution_count": 33,
   "metadata": {},
   "outputs": [
    {
     "data": {
      "text/plain": [
       "numpy.ndarray"
      ]
     },
     "execution_count": 33,
     "metadata": {},
     "output_type": "execute_result"
    }
   ],
   "source": [
    "type(prediction)"
   ]
  },
  {
   "cell_type": "code",
   "execution_count": 34,
   "metadata": {},
   "outputs": [
    {
     "name": "stderr",
     "output_type": "stream",
     "text": [
      "C:\\Users\\sedulous\\Anaconda3\\lib\\site-packages\\ipykernel_launcher.py:1: SettingWithCopyWarning: \n",
      "A value is trying to be set on a copy of a slice from a DataFrame.\n",
      "Try using .loc[row_indexer,col_indexer] = value instead\n",
      "\n",
      "See the caveats in the documentation: http://pandas.pydata.org/pandas-docs/stable/indexing.html#indexing-view-versus-copy\n",
      "  \"\"\"Entry point for launching an IPython kernel.\n"
     ]
    }
   ],
   "source": [
    "null['opened_by']=prediction.astype(int)"
   ]
  },
  {
   "cell_type": "code",
   "execution_count": 35,
   "metadata": {},
   "outputs": [
    {
     "name": "stdout",
     "output_type": "stream",
     "text": [
      "<class 'pandas.core.frame.DataFrame'>\n",
      "Int64Index: 3309 entries, 1365 to 63641\n",
      "Data columns (total 13 columns):\n",
      "ID                  3309 non-null int64\n",
      "ID_status           3309 non-null int64\n",
      "ID_caller           3309 non-null object\n",
      "opened_by           3309 non-null int32\n",
      "updated_by          3309 non-null int64\n",
      "type_contact        3309 non-null int64\n",
      "location            3309 non-null object\n",
      "category_ID         3309 non-null object\n",
      "user_symptom        2376 non-null object\n",
      "Support_group       2709 non-null object\n",
      "support_incharge    2652 non-null object\n",
      "impact              3309 non-null int64\n",
      "notify              3309 non-null int64\n",
      "dtypes: int32(1), int64(6), object(6)\n",
      "memory usage: 349.0+ KB\n"
     ]
    }
   ],
   "source": [
    "null.info()"
   ]
  },
  {
   "cell_type": "code",
   "execution_count": 36,
   "metadata": {},
   "outputs": [],
   "source": [
    "data=nonull.append(null)"
   ]
  },
  {
   "cell_type": "code",
   "execution_count": 37,
   "metadata": {},
   "outputs": [
    {
     "data": {
      "text/plain": [
       "Index(['ID', 'ID_status', 'ID_caller', 'opened_by', 'updated_by',\n",
       "       'type_contact', 'location', 'category_ID', 'user_symptom',\n",
       "       'Support_group', 'support_incharge', 'impact', 'notify'],\n",
       "      dtype='object')"
      ]
     },
     "execution_count": 37,
     "metadata": {},
     "output_type": "execute_result"
    }
   ],
   "source": [
    "data.columns"
   ]
  },
  {
   "cell_type": "code",
   "execution_count": 38,
   "metadata": {},
   "outputs": [
    {
     "name": "stdout",
     "output_type": "stream",
     "text": [
      "<class 'pandas.core.frame.DataFrame'>\n",
      "Int64Index: 99098 entries, 0 to 63641\n",
      "Data columns (total 13 columns):\n",
      "ID                  99098 non-null int64\n",
      "ID_status           99098 non-null int64\n",
      "ID_caller           99098 non-null object\n",
      "opened_by           99098 non-null object\n",
      "updated_by          99098 non-null int64\n",
      "type_contact        99098 non-null int64\n",
      "location            99098 non-null object\n",
      "category_ID         99098 non-null object\n",
      "user_symptom        76038 non-null object\n",
      "Support_group       89154 non-null object\n",
      "support_incharge    79864 non-null object\n",
      "impact              99098 non-null int64\n",
      "notify              99098 non-null int64\n",
      "dtypes: int64(6), object(7)\n",
      "memory usage: 10.6+ MB\n"
     ]
    }
   ],
   "source": [
    "data.info()"
   ]
  },
  {
   "cell_type": "code",
   "execution_count": 39,
   "metadata": {},
   "outputs": [],
   "source": [
    "nonull_1=data[pd.isnull(data['Support_group'])==False]"
   ]
  },
  {
   "cell_type": "code",
   "execution_count": 40,
   "metadata": {},
   "outputs": [],
   "source": [
    "null_1=data[pd.isnull(data['Support_group'])]"
   ]
  },
  {
   "cell_type": "code",
   "execution_count": 41,
   "metadata": {},
   "outputs": [],
   "source": [
    "independent_var=['ID', 'ID_status', 'ID_caller', 'updated_by',\n",
    "       'type_contact', 'location', 'category_ID','impact', 'notify','opened_by']"
   ]
  },
  {
   "cell_type": "code",
   "execution_count": 42,
   "metadata": {},
   "outputs": [
    {
     "data": {
      "text/plain": [
       "KNeighborsRegressor(algorithm='auto', leaf_size=30, metric='minkowski',\n",
       "                    metric_params=None, n_jobs=None, n_neighbors=5, p=2,\n",
       "                    weights='uniform')"
      ]
     },
     "execution_count": 42,
     "metadata": {},
     "output_type": "execute_result"
    }
   ],
   "source": [
    "knn_model.fit(nonull_1[independent_var],nonull_1['Support_group'])"
   ]
  },
  {
   "cell_type": "code",
   "execution_count": 43,
   "metadata": {},
   "outputs": [],
   "source": [
    "prediction_1=knn_model.predict(X=null_1[independent_var])"
   ]
  },
  {
   "cell_type": "code",
   "execution_count": 44,
   "metadata": {},
   "outputs": [
    {
     "name": "stderr",
     "output_type": "stream",
     "text": [
      "C:\\Users\\sedulous\\Anaconda3\\lib\\site-packages\\ipykernel_launcher.py:1: SettingWithCopyWarning: \n",
      "A value is trying to be set on a copy of a slice from a DataFrame.\n",
      "Try using .loc[row_indexer,col_indexer] = value instead\n",
      "\n",
      "See the caveats in the documentation: http://pandas.pydata.org/pandas-docs/stable/indexing.html#indexing-view-versus-copy\n",
      "  \"\"\"Entry point for launching an IPython kernel.\n"
     ]
    }
   ],
   "source": [
    "null_1['Support_group']=prediction_1.astype(int)"
   ]
  },
  {
   "cell_type": "code",
   "execution_count": 45,
   "metadata": {},
   "outputs": [],
   "source": [
    "data_1=nonull_1.append(null_1)"
   ]
  },
  {
   "cell_type": "code",
   "execution_count": 46,
   "metadata": {},
   "outputs": [],
   "source": [
    "nonull_2=data_1[pd.isnull(data_1['user_symptom'])==False]"
   ]
  },
  {
   "cell_type": "code",
   "execution_count": 47,
   "metadata": {},
   "outputs": [],
   "source": [
    "null_2=data_1[pd.isnull(data_1['user_symptom'])]"
   ]
  },
  {
   "cell_type": "code",
   "execution_count": 48,
   "metadata": {},
   "outputs": [],
   "source": [
    "independent_var=['ID', 'ID_status', 'ID_caller', 'updated_by',\n",
    "       'type_contact', 'location', 'category_ID','impact', 'notify','opened_by','Support_group']"
   ]
  },
  {
   "cell_type": "code",
   "execution_count": 49,
   "metadata": {},
   "outputs": [
    {
     "data": {
      "text/plain": [
       "KNeighborsRegressor(algorithm='auto', leaf_size=30, metric='minkowski',\n",
       "                    metric_params=None, n_jobs=None, n_neighbors=5, p=2,\n",
       "                    weights='uniform')"
      ]
     },
     "execution_count": 49,
     "metadata": {},
     "output_type": "execute_result"
    }
   ],
   "source": [
    "knn_model.fit(nonull_2[independent_var],nonull_2['user_symptom'])"
   ]
  },
  {
   "cell_type": "code",
   "execution_count": 50,
   "metadata": {},
   "outputs": [],
   "source": [
    "prediction_2=knn_model.predict(X=null_2[independent_var])"
   ]
  },
  {
   "cell_type": "code",
   "execution_count": 51,
   "metadata": {},
   "outputs": [
    {
     "name": "stderr",
     "output_type": "stream",
     "text": [
      "C:\\Users\\sedulous\\Anaconda3\\lib\\site-packages\\ipykernel_launcher.py:1: SettingWithCopyWarning: \n",
      "A value is trying to be set on a copy of a slice from a DataFrame.\n",
      "Try using .loc[row_indexer,col_indexer] = value instead\n",
      "\n",
      "See the caveats in the documentation: http://pandas.pydata.org/pandas-docs/stable/indexing.html#indexing-view-versus-copy\n",
      "  \"\"\"Entry point for launching an IPython kernel.\n"
     ]
    }
   ],
   "source": [
    "null_2['user_symptom']=prediction_2.astype(int)"
   ]
  },
  {
   "cell_type": "code",
   "execution_count": 52,
   "metadata": {},
   "outputs": [
    {
     "name": "stdout",
     "output_type": "stream",
     "text": [
      "<class 'pandas.core.frame.DataFrame'>\n",
      "Int64Index: 76038 entries, 0 to 63641\n",
      "Data columns (total 13 columns):\n",
      "ID                  76038 non-null int64\n",
      "ID_status           76038 non-null int64\n",
      "ID_caller           76038 non-null object\n",
      "opened_by           76038 non-null object\n",
      "updated_by          76038 non-null int64\n",
      "type_contact        76038 non-null int64\n",
      "location            76038 non-null object\n",
      "category_ID         76038 non-null object\n",
      "user_symptom        76038 non-null object\n",
      "Support_group       76038 non-null object\n",
      "support_incharge    61692 non-null object\n",
      "impact              76038 non-null int64\n",
      "notify              76038 non-null int64\n",
      "dtypes: int64(6), object(7)\n",
      "memory usage: 8.1+ MB\n"
     ]
    }
   ],
   "source": [
    "nonull_2.info()"
   ]
  },
  {
   "cell_type": "code",
   "execution_count": 53,
   "metadata": {},
   "outputs": [],
   "source": [
    "data_2=nonull_2.append(null_2)"
   ]
  },
  {
   "cell_type": "code",
   "execution_count": 54,
   "metadata": {},
   "outputs": [
    {
     "data": {
      "text/plain": [
       "ID                      0\n",
       "ID_status               0\n",
       "ID_caller               0\n",
       "opened_by               0\n",
       "updated_by              0\n",
       "type_contact            0\n",
       "location                0\n",
       "category_ID             0\n",
       "user_symptom            0\n",
       "Support_group           0\n",
       "support_incharge    19234\n",
       "impact                  0\n",
       "notify                  0\n",
       "dtype: int64"
      ]
     },
     "execution_count": 54,
     "metadata": {},
     "output_type": "execute_result"
    }
   ],
   "source": [
    "data_2.isna().sum()"
   ]
  },
  {
   "cell_type": "code",
   "execution_count": 55,
   "metadata": {},
   "outputs": [],
   "source": [
    "independent_var=['ID', 'ID_status', 'ID_caller', 'updated_by',\n",
    "       'type_contact', 'location', 'category_ID','impact', 'notify','opened_by','Support_group','user_symptom']"
   ]
  },
  {
   "cell_type": "code",
   "execution_count": 56,
   "metadata": {},
   "outputs": [],
   "source": [
    "nonull_3=data_2[pd.isnull(data_2['support_incharge'])==False]"
   ]
  },
  {
   "cell_type": "code",
   "execution_count": 57,
   "metadata": {},
   "outputs": [],
   "source": [
    "null_3=data_2[pd.isnull(data_2['support_incharge'])]"
   ]
  },
  {
   "cell_type": "code",
   "execution_count": 58,
   "metadata": {},
   "outputs": [
    {
     "data": {
      "text/plain": [
       "KNeighborsRegressor(algorithm='auto', leaf_size=30, metric='minkowski',\n",
       "                    metric_params=None, n_jobs=None, n_neighbors=5, p=2,\n",
       "                    weights='uniform')"
      ]
     },
     "execution_count": 58,
     "metadata": {},
     "output_type": "execute_result"
    }
   ],
   "source": [
    "knn_model.fit(nonull_3[independent_var],nonull_3['support_incharge'])"
   ]
  },
  {
   "cell_type": "code",
   "execution_count": 59,
   "metadata": {},
   "outputs": [],
   "source": [
    "prediction_3=knn_model.predict(X=null_3[independent_var])"
   ]
  },
  {
   "cell_type": "code",
   "execution_count": 60,
   "metadata": {},
   "outputs": [
    {
     "name": "stderr",
     "output_type": "stream",
     "text": [
      "C:\\Users\\sedulous\\Anaconda3\\lib\\site-packages\\ipykernel_launcher.py:1: SettingWithCopyWarning: \n",
      "A value is trying to be set on a copy of a slice from a DataFrame.\n",
      "Try using .loc[row_indexer,col_indexer] = value instead\n",
      "\n",
      "See the caveats in the documentation: http://pandas.pydata.org/pandas-docs/stable/indexing.html#indexing-view-versus-copy\n",
      "  \"\"\"Entry point for launching an IPython kernel.\n"
     ]
    }
   ],
   "source": [
    "null_3['support_incharge']=prediction_3.astype(int)"
   ]
  },
  {
   "cell_type": "code",
   "execution_count": 61,
   "metadata": {},
   "outputs": [],
   "source": [
    "Imputated_data=nonull_3.append(null_3)"
   ]
  },
  {
   "cell_type": "code",
   "execution_count": 62,
   "metadata": {},
   "outputs": [
    {
     "name": "stdout",
     "output_type": "stream",
     "text": [
      "<class 'pandas.core.frame.DataFrame'>\n",
      "Int64Index: 99098 entries, 3 to 58285\n",
      "Data columns (total 13 columns):\n",
      "ID                  99098 non-null int64\n",
      "ID_status           99098 non-null int64\n",
      "ID_caller           99098 non-null object\n",
      "opened_by           99098 non-null object\n",
      "updated_by          99098 non-null int64\n",
      "type_contact        99098 non-null int64\n",
      "location            99098 non-null object\n",
      "category_ID         99098 non-null object\n",
      "user_symptom        99098 non-null object\n",
      "Support_group       99098 non-null object\n",
      "support_incharge    99098 non-null object\n",
      "impact              99098 non-null int64\n",
      "notify              99098 non-null int64\n",
      "dtypes: int64(6), object(7)\n",
      "memory usage: 10.6+ MB\n"
     ]
    }
   ],
   "source": [
    "Imputated_data.info()"
   ]
  },
  {
   "cell_type": "code",
   "execution_count": 63,
   "metadata": {},
   "outputs": [],
   "source": [
    "def score_to_numeric(x):\n",
    "    if x=='True':\n",
    "        return 1\n",
    "    else:\n",
    "        return 0"
   ]
  },
  {
   "cell_type": "code",
   "execution_count": 64,
   "metadata": {},
   "outputs": [
    {
     "data": {
      "text/plain": [
       "Index(['Unnamed: 0', 'ID', 'ID_status', 'active', 'count_reassign',\n",
       "       'count_opening', 'count_updated', 'ID_caller', 'opened_by',\n",
       "       'opened_time', 'Created_by', 'created_at', 'updated_by', 'updated_at',\n",
       "       'type_contact', 'location', 'category_ID', 'user_symptom',\n",
       "       'Support_group', 'support_incharge', 'Doc_knowledge',\n",
       "       'confirmation_check', 'impact', 'notify', 'problem_ID',\n",
       "       'change_request'],\n",
       "      dtype='object')"
      ]
     },
     "execution_count": 64,
     "metadata": {},
     "output_type": "execute_result"
    }
   ],
   "source": [
    "incident.columns"
   ]
  },
  {
   "cell_type": "code",
   "execution_count": 65,
   "metadata": {},
   "outputs": [],
   "source": [
    "incident['Doc_knowledge'] = incident['Doc_knowledge'].apply(score_to_numeric)"
   ]
  },
  {
   "cell_type": "code",
   "execution_count": 66,
   "metadata": {},
   "outputs": [],
   "source": [
    "incident['confirmation_check'] = incident['confirmation_check'].apply(score_to_numeric)"
   ]
  },
  {
   "cell_type": "code",
   "execution_count": 67,
   "metadata": {},
   "outputs": [],
   "source": [
    "incident['active'] = incident['active'].apply(score_to_numeric)"
   ]
  },
  {
   "cell_type": "code",
   "execution_count": 68,
   "metadata": {},
   "outputs": [
    {
     "data": {
      "text/html": [
       "<div>\n",
       "<style scoped>\n",
       "    .dataframe tbody tr th:only-of-type {\n",
       "        vertical-align: middle;\n",
       "    }\n",
       "\n",
       "    .dataframe tbody tr th {\n",
       "        vertical-align: top;\n",
       "    }\n",
       "\n",
       "    .dataframe thead th {\n",
       "        text-align: right;\n",
       "    }\n",
       "</style>\n",
       "<table border=\"1\" class=\"dataframe\">\n",
       "  <thead>\n",
       "    <tr style=\"text-align: right;\">\n",
       "      <th></th>\n",
       "      <th>Unnamed: 0</th>\n",
       "      <th>ID</th>\n",
       "      <th>ID_status</th>\n",
       "      <th>active</th>\n",
       "      <th>count_reassign</th>\n",
       "      <th>count_opening</th>\n",
       "      <th>count_updated</th>\n",
       "      <th>ID_caller</th>\n",
       "      <th>opened_by</th>\n",
       "      <th>opened_time</th>\n",
       "      <th>...</th>\n",
       "      <th>category_ID</th>\n",
       "      <th>user_symptom</th>\n",
       "      <th>Support_group</th>\n",
       "      <th>support_incharge</th>\n",
       "      <th>Doc_knowledge</th>\n",
       "      <th>confirmation_check</th>\n",
       "      <th>impact</th>\n",
       "      <th>notify</th>\n",
       "      <th>problem_ID</th>\n",
       "      <th>change_request</th>\n",
       "    </tr>\n",
       "  </thead>\n",
       "  <tbody>\n",
       "    <tr>\n",
       "      <th>0</th>\n",
       "      <td>1</td>\n",
       "      <td>INC0000045</td>\n",
       "      <td>New</td>\n",
       "      <td>0</td>\n",
       "      <td>0</td>\n",
       "      <td>0</td>\n",
       "      <td>0</td>\n",
       "      <td>Caller 2403</td>\n",
       "      <td>Opened by  8</td>\n",
       "      <td>29-02-2016 01:16</td>\n",
       "      <td>...</td>\n",
       "      <td>Category 55</td>\n",
       "      <td>Symptom 72</td>\n",
       "      <td>Group 56</td>\n",
       "      <td>NaN</td>\n",
       "      <td>0</td>\n",
       "      <td>0</td>\n",
       "      <td>2 - Medium</td>\n",
       "      <td>Do Not Notify</td>\n",
       "      <td>NaN</td>\n",
       "      <td>NaN</td>\n",
       "    </tr>\n",
       "    <tr>\n",
       "      <th>1</th>\n",
       "      <td>3</td>\n",
       "      <td>INC0000045</td>\n",
       "      <td>Resolved</td>\n",
       "      <td>0</td>\n",
       "      <td>0</td>\n",
       "      <td>0</td>\n",
       "      <td>3</td>\n",
       "      <td>Caller 2403</td>\n",
       "      <td>Opened by  8</td>\n",
       "      <td>29-02-2016 01:16</td>\n",
       "      <td>...</td>\n",
       "      <td>Category 55</td>\n",
       "      <td>Symptom 72</td>\n",
       "      <td>Group 56</td>\n",
       "      <td>NaN</td>\n",
       "      <td>0</td>\n",
       "      <td>0</td>\n",
       "      <td>2 - Medium</td>\n",
       "      <td>Do Not Notify</td>\n",
       "      <td>NaN</td>\n",
       "      <td>NaN</td>\n",
       "    </tr>\n",
       "    <tr>\n",
       "      <th>2</th>\n",
       "      <td>4</td>\n",
       "      <td>INC0000045</td>\n",
       "      <td>Closed</td>\n",
       "      <td>0</td>\n",
       "      <td>0</td>\n",
       "      <td>0</td>\n",
       "      <td>4</td>\n",
       "      <td>Caller 2403</td>\n",
       "      <td>Opened by  8</td>\n",
       "      <td>29-02-2016 01:16</td>\n",
       "      <td>...</td>\n",
       "      <td>Category 55</td>\n",
       "      <td>Symptom 72</td>\n",
       "      <td>Group 56</td>\n",
       "      <td>NaN</td>\n",
       "      <td>0</td>\n",
       "      <td>0</td>\n",
       "      <td>2 - Medium</td>\n",
       "      <td>Do Not Notify</td>\n",
       "      <td>NaN</td>\n",
       "      <td>NaN</td>\n",
       "    </tr>\n",
       "    <tr>\n",
       "      <th>3</th>\n",
       "      <td>6</td>\n",
       "      <td>INC0000047</td>\n",
       "      <td>Active</td>\n",
       "      <td>0</td>\n",
       "      <td>1</td>\n",
       "      <td>0</td>\n",
       "      <td>1</td>\n",
       "      <td>Caller 2403</td>\n",
       "      <td>Opened by  397</td>\n",
       "      <td>29-02-2016 04:40</td>\n",
       "      <td>...</td>\n",
       "      <td>Category 40</td>\n",
       "      <td>Symptom 471</td>\n",
       "      <td>Group 24</td>\n",
       "      <td>Resolver 31</td>\n",
       "      <td>0</td>\n",
       "      <td>0</td>\n",
       "      <td>2 - Medium</td>\n",
       "      <td>Do Not Notify</td>\n",
       "      <td>NaN</td>\n",
       "      <td>NaN</td>\n",
       "    </tr>\n",
       "    <tr>\n",
       "      <th>4</th>\n",
       "      <td>7</td>\n",
       "      <td>INC0000047</td>\n",
       "      <td>Active</td>\n",
       "      <td>0</td>\n",
       "      <td>1</td>\n",
       "      <td>0</td>\n",
       "      <td>2</td>\n",
       "      <td>Caller 2403</td>\n",
       "      <td>Opened by  397</td>\n",
       "      <td>29-02-2016 04:40</td>\n",
       "      <td>...</td>\n",
       "      <td>Category 40</td>\n",
       "      <td>Symptom 471</td>\n",
       "      <td>Group 24</td>\n",
       "      <td>Resolver 31</td>\n",
       "      <td>0</td>\n",
       "      <td>0</td>\n",
       "      <td>2 - Medium</td>\n",
       "      <td>Do Not Notify</td>\n",
       "      <td>NaN</td>\n",
       "      <td>NaN</td>\n",
       "    </tr>\n",
       "    <tr>\n",
       "      <th>5</th>\n",
       "      <td>9</td>\n",
       "      <td>INC0000047</td>\n",
       "      <td>Active</td>\n",
       "      <td>0</td>\n",
       "      <td>1</td>\n",
       "      <td>0</td>\n",
       "      <td>4</td>\n",
       "      <td>Caller 2403</td>\n",
       "      <td>Opened by  397</td>\n",
       "      <td>29-02-2016 04:40</td>\n",
       "      <td>...</td>\n",
       "      <td>Category 40</td>\n",
       "      <td>Symptom 471</td>\n",
       "      <td>Group 24</td>\n",
       "      <td>Resolver 31</td>\n",
       "      <td>0</td>\n",
       "      <td>0</td>\n",
       "      <td>2 - Medium</td>\n",
       "      <td>Do Not Notify</td>\n",
       "      <td>NaN</td>\n",
       "      <td>NaN</td>\n",
       "    </tr>\n",
       "    <tr>\n",
       "      <th>6</th>\n",
       "      <td>10</td>\n",
       "      <td>INC0000047</td>\n",
       "      <td>Active</td>\n",
       "      <td>0</td>\n",
       "      <td>1</td>\n",
       "      <td>0</td>\n",
       "      <td>5</td>\n",
       "      <td>Caller 2403</td>\n",
       "      <td>Opened by  397</td>\n",
       "      <td>29-02-2016 04:40</td>\n",
       "      <td>...</td>\n",
       "      <td>Category 40</td>\n",
       "      <td>Symptom 471</td>\n",
       "      <td>Group 24</td>\n",
       "      <td>Resolver 31</td>\n",
       "      <td>0</td>\n",
       "      <td>0</td>\n",
       "      <td>2 - Medium</td>\n",
       "      <td>Do Not Notify</td>\n",
       "      <td>NaN</td>\n",
       "      <td>NaN</td>\n",
       "    </tr>\n",
       "    <tr>\n",
       "      <th>7</th>\n",
       "      <td>11</td>\n",
       "      <td>INC0000047</td>\n",
       "      <td>Awaiting User Info</td>\n",
       "      <td>0</td>\n",
       "      <td>1</td>\n",
       "      <td>0</td>\n",
       "      <td>6</td>\n",
       "      <td>Caller 2403</td>\n",
       "      <td>Opened by  397</td>\n",
       "      <td>29-02-2016 04:40</td>\n",
       "      <td>...</td>\n",
       "      <td>Category 40</td>\n",
       "      <td>Symptom 471</td>\n",
       "      <td>Group 24</td>\n",
       "      <td>Resolver 89</td>\n",
       "      <td>0</td>\n",
       "      <td>0</td>\n",
       "      <td>2 - Medium</td>\n",
       "      <td>Do Not Notify</td>\n",
       "      <td>NaN</td>\n",
       "      <td>NaN</td>\n",
       "    </tr>\n",
       "    <tr>\n",
       "      <th>8</th>\n",
       "      <td>13</td>\n",
       "      <td>INC0000047</td>\n",
       "      <td>Closed</td>\n",
       "      <td>0</td>\n",
       "      <td>1</td>\n",
       "      <td>0</td>\n",
       "      <td>8</td>\n",
       "      <td>Caller 2403</td>\n",
       "      <td>Opened by  397</td>\n",
       "      <td>29-02-2016 04:40</td>\n",
       "      <td>...</td>\n",
       "      <td>Category 40</td>\n",
       "      <td>Symptom 471</td>\n",
       "      <td>Group 24</td>\n",
       "      <td>Resolver 89</td>\n",
       "      <td>0</td>\n",
       "      <td>0</td>\n",
       "      <td>2 - Medium</td>\n",
       "      <td>Do Not Notify</td>\n",
       "      <td>NaN</td>\n",
       "      <td>NaN</td>\n",
       "    </tr>\n",
       "    <tr>\n",
       "      <th>9</th>\n",
       "      <td>14</td>\n",
       "      <td>INC0000057</td>\n",
       "      <td>New</td>\n",
       "      <td>0</td>\n",
       "      <td>0</td>\n",
       "      <td>0</td>\n",
       "      <td>0</td>\n",
       "      <td>Caller 4416</td>\n",
       "      <td>Opened by  8</td>\n",
       "      <td>29-02-2016 06:10</td>\n",
       "      <td>...</td>\n",
       "      <td>Category 20</td>\n",
       "      <td>Symptom 471</td>\n",
       "      <td>Group 70</td>\n",
       "      <td>NaN</td>\n",
       "      <td>0</td>\n",
       "      <td>0</td>\n",
       "      <td>2 - Medium</td>\n",
       "      <td>Do Not Notify</td>\n",
       "      <td>NaN</td>\n",
       "      <td>NaN</td>\n",
       "    </tr>\n",
       "    <tr>\n",
       "      <th>10</th>\n",
       "      <td>15</td>\n",
       "      <td>INC0000057</td>\n",
       "      <td>New</td>\n",
       "      <td>0</td>\n",
       "      <td>0</td>\n",
       "      <td>0</td>\n",
       "      <td>1</td>\n",
       "      <td>Caller 4416</td>\n",
       "      <td>Opened by  8</td>\n",
       "      <td>29-02-2016 06:10</td>\n",
       "      <td>...</td>\n",
       "      <td>Category 20</td>\n",
       "      <td>Symptom 471</td>\n",
       "      <td>Group 70</td>\n",
       "      <td>NaN</td>\n",
       "      <td>0</td>\n",
       "      <td>0</td>\n",
       "      <td>2 - Medium</td>\n",
       "      <td>Do Not Notify</td>\n",
       "      <td>NaN</td>\n",
       "      <td>NaN</td>\n",
       "    </tr>\n",
       "    <tr>\n",
       "      <th>11</th>\n",
       "      <td>16</td>\n",
       "      <td>INC0000057</td>\n",
       "      <td>New</td>\n",
       "      <td>0</td>\n",
       "      <td>0</td>\n",
       "      <td>0</td>\n",
       "      <td>2</td>\n",
       "      <td>Caller 4416</td>\n",
       "      <td>Opened by  8</td>\n",
       "      <td>29-02-2016 06:10</td>\n",
       "      <td>...</td>\n",
       "      <td>Category 20</td>\n",
       "      <td>Symptom 471</td>\n",
       "      <td>Group 70</td>\n",
       "      <td>NaN</td>\n",
       "      <td>0</td>\n",
       "      <td>0</td>\n",
       "      <td>2 - Medium</td>\n",
       "      <td>Do Not Notify</td>\n",
       "      <td>Problem ID  2</td>\n",
       "      <td>NaN</td>\n",
       "    </tr>\n",
       "    <tr>\n",
       "      <th>12</th>\n",
       "      <td>17</td>\n",
       "      <td>INC0000057</td>\n",
       "      <td>New</td>\n",
       "      <td>0</td>\n",
       "      <td>0</td>\n",
       "      <td>0</td>\n",
       "      <td>3</td>\n",
       "      <td>Caller 4416</td>\n",
       "      <td>Opened by  8</td>\n",
       "      <td>29-02-2016 06:10</td>\n",
       "      <td>...</td>\n",
       "      <td>Category 20</td>\n",
       "      <td>Symptom 471</td>\n",
       "      <td>Group 70</td>\n",
       "      <td>NaN</td>\n",
       "      <td>0</td>\n",
       "      <td>0</td>\n",
       "      <td>2 - Medium</td>\n",
       "      <td>Do Not Notify</td>\n",
       "      <td>Problem ID  2</td>\n",
       "      <td>NaN</td>\n",
       "    </tr>\n",
       "    <tr>\n",
       "      <th>13</th>\n",
       "      <td>19</td>\n",
       "      <td>INC0000057</td>\n",
       "      <td>Resolved</td>\n",
       "      <td>0</td>\n",
       "      <td>0</td>\n",
       "      <td>0</td>\n",
       "      <td>5</td>\n",
       "      <td>Caller 4416</td>\n",
       "      <td>Opened by  8</td>\n",
       "      <td>29-02-2016 06:10</td>\n",
       "      <td>...</td>\n",
       "      <td>Category 20</td>\n",
       "      <td>Symptom 471</td>\n",
       "      <td>Group 70</td>\n",
       "      <td>Resolver 6</td>\n",
       "      <td>0</td>\n",
       "      <td>0</td>\n",
       "      <td>2 - Medium</td>\n",
       "      <td>Do Not Notify</td>\n",
       "      <td>Problem ID  2</td>\n",
       "      <td>NaN</td>\n",
       "    </tr>\n",
       "    <tr>\n",
       "      <th>14</th>\n",
       "      <td>20</td>\n",
       "      <td>INC0000057</td>\n",
       "      <td>Closed</td>\n",
       "      <td>0</td>\n",
       "      <td>0</td>\n",
       "      <td>0</td>\n",
       "      <td>6</td>\n",
       "      <td>Caller 4416</td>\n",
       "      <td>Opened by  8</td>\n",
       "      <td>29-02-2016 06:10</td>\n",
       "      <td>...</td>\n",
       "      <td>Category 20</td>\n",
       "      <td>Symptom 471</td>\n",
       "      <td>Group 70</td>\n",
       "      <td>Resolver 6</td>\n",
       "      <td>0</td>\n",
       "      <td>0</td>\n",
       "      <td>2 - Medium</td>\n",
       "      <td>Do Not Notify</td>\n",
       "      <td>Problem ID  2</td>\n",
       "      <td>NaN</td>\n",
       "    </tr>\n",
       "    <tr>\n",
       "      <th>15</th>\n",
       "      <td>21</td>\n",
       "      <td>INC0000060</td>\n",
       "      <td>New</td>\n",
       "      <td>0</td>\n",
       "      <td>0</td>\n",
       "      <td>0</td>\n",
       "      <td>0</td>\n",
       "      <td>Caller 4491</td>\n",
       "      <td>Opened by  180</td>\n",
       "      <td>29-02-2016 06:38</td>\n",
       "      <td>...</td>\n",
       "      <td>Category 9</td>\n",
       "      <td>Symptom 450</td>\n",
       "      <td>Group 25</td>\n",
       "      <td>Resolver 125</td>\n",
       "      <td>0</td>\n",
       "      <td>0</td>\n",
       "      <td>2 - Medium</td>\n",
       "      <td>Do Not Notify</td>\n",
       "      <td>NaN</td>\n",
       "      <td>NaN</td>\n",
       "    </tr>\n",
       "    <tr>\n",
       "      <th>16</th>\n",
       "      <td>22</td>\n",
       "      <td>INC0000060</td>\n",
       "      <td>Active</td>\n",
       "      <td>0</td>\n",
       "      <td>0</td>\n",
       "      <td>0</td>\n",
       "      <td>1</td>\n",
       "      <td>Caller 4491</td>\n",
       "      <td>Opened by  180</td>\n",
       "      <td>29-02-2016 06:38</td>\n",
       "      <td>...</td>\n",
       "      <td>Category 9</td>\n",
       "      <td>Symptom 450</td>\n",
       "      <td>Group 25</td>\n",
       "      <td>Resolver 125</td>\n",
       "      <td>0</td>\n",
       "      <td>0</td>\n",
       "      <td>2 - Medium</td>\n",
       "      <td>Do Not Notify</td>\n",
       "      <td>NaN</td>\n",
       "      <td>NaN</td>\n",
       "    </tr>\n",
       "    <tr>\n",
       "      <th>17</th>\n",
       "      <td>23</td>\n",
       "      <td>INC0000060</td>\n",
       "      <td>Resolved</td>\n",
       "      <td>0</td>\n",
       "      <td>0</td>\n",
       "      <td>0</td>\n",
       "      <td>2</td>\n",
       "      <td>Caller 4491</td>\n",
       "      <td>Opened by  180</td>\n",
       "      <td>29-02-2016 06:38</td>\n",
       "      <td>...</td>\n",
       "      <td>Category 9</td>\n",
       "      <td>Symptom 450</td>\n",
       "      <td>Group 25</td>\n",
       "      <td>Resolver 125</td>\n",
       "      <td>0</td>\n",
       "      <td>0</td>\n",
       "      <td>2 - Medium</td>\n",
       "      <td>Do Not Notify</td>\n",
       "      <td>NaN</td>\n",
       "      <td>NaN</td>\n",
       "    </tr>\n",
       "    <tr>\n",
       "      <th>18</th>\n",
       "      <td>24</td>\n",
       "      <td>INC0000060</td>\n",
       "      <td>Closed</td>\n",
       "      <td>0</td>\n",
       "      <td>0</td>\n",
       "      <td>0</td>\n",
       "      <td>3</td>\n",
       "      <td>Caller 4491</td>\n",
       "      <td>Opened by  180</td>\n",
       "      <td>29-02-2016 06:38</td>\n",
       "      <td>...</td>\n",
       "      <td>Category 9</td>\n",
       "      <td>Symptom 450</td>\n",
       "      <td>Group 25</td>\n",
       "      <td>Resolver 125</td>\n",
       "      <td>0</td>\n",
       "      <td>0</td>\n",
       "      <td>2 - Medium</td>\n",
       "      <td>Do Not Notify</td>\n",
       "      <td>NaN</td>\n",
       "      <td>NaN</td>\n",
       "    </tr>\n",
       "    <tr>\n",
       "      <th>19</th>\n",
       "      <td>25</td>\n",
       "      <td>INC0000062</td>\n",
       "      <td>New</td>\n",
       "      <td>0</td>\n",
       "      <td>0</td>\n",
       "      <td>0</td>\n",
       "      <td>0</td>\n",
       "      <td>Caller 3765</td>\n",
       "      <td>Opened by  180</td>\n",
       "      <td>29-02-2016 06:58</td>\n",
       "      <td>...</td>\n",
       "      <td>Category 53</td>\n",
       "      <td>Symptom 232</td>\n",
       "      <td>Group 70</td>\n",
       "      <td>NaN</td>\n",
       "      <td>0</td>\n",
       "      <td>0</td>\n",
       "      <td>2 - Medium</td>\n",
       "      <td>Do Not Notify</td>\n",
       "      <td>NaN</td>\n",
       "      <td>NaN</td>\n",
       "    </tr>\n",
       "    <tr>\n",
       "      <th>20</th>\n",
       "      <td>26</td>\n",
       "      <td>INC0000062</td>\n",
       "      <td>New</td>\n",
       "      <td>0</td>\n",
       "      <td>0</td>\n",
       "      <td>0</td>\n",
       "      <td>1</td>\n",
       "      <td>Caller 3765</td>\n",
       "      <td>Opened by  180</td>\n",
       "      <td>29-02-2016 06:58</td>\n",
       "      <td>...</td>\n",
       "      <td>Category 53</td>\n",
       "      <td>Symptom 232</td>\n",
       "      <td>Group 70</td>\n",
       "      <td>NaN</td>\n",
       "      <td>0</td>\n",
       "      <td>0</td>\n",
       "      <td>1 - High</td>\n",
       "      <td>Do Not Notify</td>\n",
       "      <td>NaN</td>\n",
       "      <td>NaN</td>\n",
       "    </tr>\n",
       "    <tr>\n",
       "      <th>21</th>\n",
       "      <td>27</td>\n",
       "      <td>INC0000062</td>\n",
       "      <td>New</td>\n",
       "      <td>0</td>\n",
       "      <td>1</td>\n",
       "      <td>0</td>\n",
       "      <td>2</td>\n",
       "      <td>Caller 3765</td>\n",
       "      <td>Opened by  180</td>\n",
       "      <td>29-02-2016 06:58</td>\n",
       "      <td>...</td>\n",
       "      <td>Category 53</td>\n",
       "      <td>Symptom 232</td>\n",
       "      <td>Group 23</td>\n",
       "      <td>NaN</td>\n",
       "      <td>0</td>\n",
       "      <td>0</td>\n",
       "      <td>1 - High</td>\n",
       "      <td>Do Not Notify</td>\n",
       "      <td>NaN</td>\n",
       "      <td>NaN</td>\n",
       "    </tr>\n",
       "    <tr>\n",
       "      <th>22</th>\n",
       "      <td>29</td>\n",
       "      <td>INC0000062</td>\n",
       "      <td>New</td>\n",
       "      <td>0</td>\n",
       "      <td>1</td>\n",
       "      <td>0</td>\n",
       "      <td>4</td>\n",
       "      <td>Caller 3765</td>\n",
       "      <td>Opened by  180</td>\n",
       "      <td>29-02-2016 06:58</td>\n",
       "      <td>...</td>\n",
       "      <td>Category 53</td>\n",
       "      <td>Symptom 232</td>\n",
       "      <td>Group 23</td>\n",
       "      <td>NaN</td>\n",
       "      <td>0</td>\n",
       "      <td>0</td>\n",
       "      <td>1 - High</td>\n",
       "      <td>Do Not Notify</td>\n",
       "      <td>NaN</td>\n",
       "      <td>NaN</td>\n",
       "    </tr>\n",
       "    <tr>\n",
       "      <th>23</th>\n",
       "      <td>30</td>\n",
       "      <td>INC0000062</td>\n",
       "      <td>New</td>\n",
       "      <td>0</td>\n",
       "      <td>1</td>\n",
       "      <td>0</td>\n",
       "      <td>5</td>\n",
       "      <td>Caller 3765</td>\n",
       "      <td>Opened by  180</td>\n",
       "      <td>29-02-2016 06:58</td>\n",
       "      <td>...</td>\n",
       "      <td>Category 53</td>\n",
       "      <td>Symptom 232</td>\n",
       "      <td>Group 23</td>\n",
       "      <td>NaN</td>\n",
       "      <td>0</td>\n",
       "      <td>0</td>\n",
       "      <td>1 - High</td>\n",
       "      <td>Do Not Notify</td>\n",
       "      <td>NaN</td>\n",
       "      <td>NaN</td>\n",
       "    </tr>\n",
       "    <tr>\n",
       "      <th>24</th>\n",
       "      <td>32</td>\n",
       "      <td>INC0000062</td>\n",
       "      <td>Closed</td>\n",
       "      <td>0</td>\n",
       "      <td>1</td>\n",
       "      <td>0</td>\n",
       "      <td>7</td>\n",
       "      <td>Caller 3765</td>\n",
       "      <td>Opened by  180</td>\n",
       "      <td>29-02-2016 06:58</td>\n",
       "      <td>...</td>\n",
       "      <td>Category 53</td>\n",
       "      <td>Symptom 232</td>\n",
       "      <td>Group 23</td>\n",
       "      <td>NaN</td>\n",
       "      <td>0</td>\n",
       "      <td>0</td>\n",
       "      <td>1 - High</td>\n",
       "      <td>Do Not Notify</td>\n",
       "      <td>NaN</td>\n",
       "      <td>NaN</td>\n",
       "    </tr>\n",
       "    <tr>\n",
       "      <th>25</th>\n",
       "      <td>33</td>\n",
       "      <td>INC0000063</td>\n",
       "      <td>New</td>\n",
       "      <td>0</td>\n",
       "      <td>0</td>\n",
       "      <td>0</td>\n",
       "      <td>0</td>\n",
       "      <td>Caller 2146</td>\n",
       "      <td>Opened by  180</td>\n",
       "      <td>29-02-2016 07:08</td>\n",
       "      <td>...</td>\n",
       "      <td>Category 20</td>\n",
       "      <td>Symptom 471</td>\n",
       "      <td>Group 70</td>\n",
       "      <td>NaN</td>\n",
       "      <td>0</td>\n",
       "      <td>0</td>\n",
       "      <td>2 - Medium</td>\n",
       "      <td>Do Not Notify</td>\n",
       "      <td>NaN</td>\n",
       "      <td>NaN</td>\n",
       "    </tr>\n",
       "    <tr>\n",
       "      <th>26</th>\n",
       "      <td>36</td>\n",
       "      <td>INC0000063</td>\n",
       "      <td>New</td>\n",
       "      <td>0</td>\n",
       "      <td>0</td>\n",
       "      <td>0</td>\n",
       "      <td>3</td>\n",
       "      <td>Caller 2146</td>\n",
       "      <td>Opened by  180</td>\n",
       "      <td>29-02-2016 07:08</td>\n",
       "      <td>...</td>\n",
       "      <td>Category 20</td>\n",
       "      <td>Symptom 471</td>\n",
       "      <td>Group 70</td>\n",
       "      <td>NaN</td>\n",
       "      <td>0</td>\n",
       "      <td>0</td>\n",
       "      <td>2 - Medium</td>\n",
       "      <td>Do Not Notify</td>\n",
       "      <td>NaN</td>\n",
       "      <td>NaN</td>\n",
       "    </tr>\n",
       "    <tr>\n",
       "      <th>27</th>\n",
       "      <td>37</td>\n",
       "      <td>INC0000063</td>\n",
       "      <td>New</td>\n",
       "      <td>0</td>\n",
       "      <td>1</td>\n",
       "      <td>0</td>\n",
       "      <td>4</td>\n",
       "      <td>Caller 2146</td>\n",
       "      <td>Opened by  180</td>\n",
       "      <td>29-02-2016 07:08</td>\n",
       "      <td>...</td>\n",
       "      <td>Category 20</td>\n",
       "      <td>Symptom 471</td>\n",
       "      <td>Group 23</td>\n",
       "      <td>NaN</td>\n",
       "      <td>0</td>\n",
       "      <td>0</td>\n",
       "      <td>2 - Medium</td>\n",
       "      <td>Do Not Notify</td>\n",
       "      <td>NaN</td>\n",
       "      <td>NaN</td>\n",
       "    </tr>\n",
       "    <tr>\n",
       "      <th>28</th>\n",
       "      <td>38</td>\n",
       "      <td>INC0000063</td>\n",
       "      <td>New</td>\n",
       "      <td>0</td>\n",
       "      <td>1</td>\n",
       "      <td>0</td>\n",
       "      <td>5</td>\n",
       "      <td>Caller 2146</td>\n",
       "      <td>Opened by  180</td>\n",
       "      <td>29-02-2016 07:08</td>\n",
       "      <td>...</td>\n",
       "      <td>Category 20</td>\n",
       "      <td>Symptom 471</td>\n",
       "      <td>Group 23</td>\n",
       "      <td>NaN</td>\n",
       "      <td>0</td>\n",
       "      <td>0</td>\n",
       "      <td>2 - Medium</td>\n",
       "      <td>Do Not Notify</td>\n",
       "      <td>NaN</td>\n",
       "      <td>NaN</td>\n",
       "    </tr>\n",
       "    <tr>\n",
       "      <th>29</th>\n",
       "      <td>39</td>\n",
       "      <td>INC0000063</td>\n",
       "      <td>Resolved</td>\n",
       "      <td>0</td>\n",
       "      <td>1</td>\n",
       "      <td>0</td>\n",
       "      <td>6</td>\n",
       "      <td>Caller 2146</td>\n",
       "      <td>Opened by  180</td>\n",
       "      <td>29-02-2016 07:08</td>\n",
       "      <td>...</td>\n",
       "      <td>Category 20</td>\n",
       "      <td>Symptom 471</td>\n",
       "      <td>Group 23</td>\n",
       "      <td>NaN</td>\n",
       "      <td>0</td>\n",
       "      <td>0</td>\n",
       "      <td>2 - Medium</td>\n",
       "      <td>Do Not Notify</td>\n",
       "      <td>NaN</td>\n",
       "      <td>NaN</td>\n",
       "    </tr>\n",
       "    <tr>\n",
       "      <th>...</th>\n",
       "      <td>...</td>\n",
       "      <td>...</td>\n",
       "      <td>...</td>\n",
       "      <td>...</td>\n",
       "      <td>...</td>\n",
       "      <td>...</td>\n",
       "      <td>...</td>\n",
       "      <td>...</td>\n",
       "      <td>...</td>\n",
       "      <td>...</td>\n",
       "      <td>...</td>\n",
       "      <td>...</td>\n",
       "      <td>...</td>\n",
       "      <td>...</td>\n",
       "      <td>...</td>\n",
       "      <td>...</td>\n",
       "      <td>...</td>\n",
       "      <td>...</td>\n",
       "      <td>...</td>\n",
       "      <td>...</td>\n",
       "      <td>...</td>\n",
       "    </tr>\n",
       "    <tr>\n",
       "      <th>99168</th>\n",
       "      <td>141673</td>\n",
       "      <td>INC0119289</td>\n",
       "      <td>New</td>\n",
       "      <td>0</td>\n",
       "      <td>0</td>\n",
       "      <td>0</td>\n",
       "      <td>0</td>\n",
       "      <td>Caller 1094</td>\n",
       "      <td>Opened by  508</td>\n",
       "      <td>13-02-2017 08:56</td>\n",
       "      <td>...</td>\n",
       "      <td>Category 50</td>\n",
       "      <td>Symptom 533</td>\n",
       "      <td>Group 70</td>\n",
       "      <td>NaN</td>\n",
       "      <td>0</td>\n",
       "      <td>0</td>\n",
       "      <td>3 - Low</td>\n",
       "      <td>Do Not Notify</td>\n",
       "      <td>NaN</td>\n",
       "      <td>NaN</td>\n",
       "    </tr>\n",
       "    <tr>\n",
       "      <th>99169</th>\n",
       "      <td>141675</td>\n",
       "      <td>INC0119390</td>\n",
       "      <td>New</td>\n",
       "      <td>0</td>\n",
       "      <td>0</td>\n",
       "      <td>0</td>\n",
       "      <td>0</td>\n",
       "      <td>Caller 5100</td>\n",
       "      <td>Opened by  490</td>\n",
       "      <td>13-02-2017 10:33</td>\n",
       "      <td>...</td>\n",
       "      <td>NaN</td>\n",
       "      <td>NaN</td>\n",
       "      <td>Group 70</td>\n",
       "      <td>NaN</td>\n",
       "      <td>0</td>\n",
       "      <td>0</td>\n",
       "      <td>2 - Medium</td>\n",
       "      <td>Do Not Notify</td>\n",
       "      <td>NaN</td>\n",
       "      <td>NaN</td>\n",
       "    </tr>\n",
       "    <tr>\n",
       "      <th>99170</th>\n",
       "      <td>141676</td>\n",
       "      <td>INC0119390</td>\n",
       "      <td>New</td>\n",
       "      <td>0</td>\n",
       "      <td>1</td>\n",
       "      <td>0</td>\n",
       "      <td>1</td>\n",
       "      <td>Caller 5100</td>\n",
       "      <td>Opened by  490</td>\n",
       "      <td>13-02-2017 10:33</td>\n",
       "      <td>...</td>\n",
       "      <td>Category 45</td>\n",
       "      <td>NaN</td>\n",
       "      <td>Group 31</td>\n",
       "      <td>NaN</td>\n",
       "      <td>0</td>\n",
       "      <td>0</td>\n",
       "      <td>2 - Medium</td>\n",
       "      <td>Do Not Notify</td>\n",
       "      <td>NaN</td>\n",
       "      <td>NaN</td>\n",
       "    </tr>\n",
       "    <tr>\n",
       "      <th>99171</th>\n",
       "      <td>141679</td>\n",
       "      <td>INC0119390</td>\n",
       "      <td>Active</td>\n",
       "      <td>0</td>\n",
       "      <td>3</td>\n",
       "      <td>0</td>\n",
       "      <td>4</td>\n",
       "      <td>Caller 5100</td>\n",
       "      <td>Opened by  490</td>\n",
       "      <td>13-02-2017 10:33</td>\n",
       "      <td>...</td>\n",
       "      <td>Category 45</td>\n",
       "      <td>NaN</td>\n",
       "      <td>Group 39</td>\n",
       "      <td>Resolver 36</td>\n",
       "      <td>0</td>\n",
       "      <td>0</td>\n",
       "      <td>2 - Medium</td>\n",
       "      <td>Do Not Notify</td>\n",
       "      <td>NaN</td>\n",
       "      <td>NaN</td>\n",
       "    </tr>\n",
       "    <tr>\n",
       "      <th>99172</th>\n",
       "      <td>141680</td>\n",
       "      <td>INC0119390</td>\n",
       "      <td>Resolved</td>\n",
       "      <td>0</td>\n",
       "      <td>3</td>\n",
       "      <td>0</td>\n",
       "      <td>5</td>\n",
       "      <td>Caller 5100</td>\n",
       "      <td>Opened by  490</td>\n",
       "      <td>13-02-2017 10:33</td>\n",
       "      <td>...</td>\n",
       "      <td>Category 45</td>\n",
       "      <td>NaN</td>\n",
       "      <td>Group 39</td>\n",
       "      <td>Resolver 36</td>\n",
       "      <td>0</td>\n",
       "      <td>0</td>\n",
       "      <td>2 - Medium</td>\n",
       "      <td>Do Not Notify</td>\n",
       "      <td>NaN</td>\n",
       "      <td>NaN</td>\n",
       "    </tr>\n",
       "    <tr>\n",
       "      <th>99173</th>\n",
       "      <td>141681</td>\n",
       "      <td>INC0119390</td>\n",
       "      <td>Closed</td>\n",
       "      <td>0</td>\n",
       "      <td>3</td>\n",
       "      <td>0</td>\n",
       "      <td>6</td>\n",
       "      <td>Caller 5100</td>\n",
       "      <td>Opened by  490</td>\n",
       "      <td>13-02-2017 10:33</td>\n",
       "      <td>...</td>\n",
       "      <td>Category 45</td>\n",
       "      <td>NaN</td>\n",
       "      <td>Group 39</td>\n",
       "      <td>Resolver 36</td>\n",
       "      <td>0</td>\n",
       "      <td>0</td>\n",
       "      <td>2 - Medium</td>\n",
       "      <td>Do Not Notify</td>\n",
       "      <td>NaN</td>\n",
       "      <td>NaN</td>\n",
       "    </tr>\n",
       "    <tr>\n",
       "      <th>99174</th>\n",
       "      <td>141683</td>\n",
       "      <td>INC0119392</td>\n",
       "      <td>Closed</td>\n",
       "      <td>0</td>\n",
       "      <td>0</td>\n",
       "      <td>0</td>\n",
       "      <td>1</td>\n",
       "      <td>Caller 2403</td>\n",
       "      <td>Opened by  508</td>\n",
       "      <td>13-02-2017 10:33</td>\n",
       "      <td>...</td>\n",
       "      <td>Category 50</td>\n",
       "      <td>Symptom 533</td>\n",
       "      <td>Group 70</td>\n",
       "      <td>NaN</td>\n",
       "      <td>0</td>\n",
       "      <td>0</td>\n",
       "      <td>3 - Low</td>\n",
       "      <td>Do Not Notify</td>\n",
       "      <td>NaN</td>\n",
       "      <td>NaN</td>\n",
       "    </tr>\n",
       "    <tr>\n",
       "      <th>99175</th>\n",
       "      <td>141687</td>\n",
       "      <td>INC0119983</td>\n",
       "      <td>Closed</td>\n",
       "      <td>0</td>\n",
       "      <td>0</td>\n",
       "      <td>0</td>\n",
       "      <td>1</td>\n",
       "      <td>Caller 831</td>\n",
       "      <td>Opened by  508</td>\n",
       "      <td>14-02-2017 11:11</td>\n",
       "      <td>...</td>\n",
       "      <td>Category 50</td>\n",
       "      <td>Symptom 533</td>\n",
       "      <td>Group 70</td>\n",
       "      <td>NaN</td>\n",
       "      <td>0</td>\n",
       "      <td>0</td>\n",
       "      <td>3 - Low</td>\n",
       "      <td>Do Not Notify</td>\n",
       "      <td>NaN</td>\n",
       "      <td>NaN</td>\n",
       "    </tr>\n",
       "    <tr>\n",
       "      <th>99176</th>\n",
       "      <td>141688</td>\n",
       "      <td>INC0119987</td>\n",
       "      <td>New</td>\n",
       "      <td>0</td>\n",
       "      <td>0</td>\n",
       "      <td>0</td>\n",
       "      <td>0</td>\n",
       "      <td>Caller 831</td>\n",
       "      <td>Opened by  508</td>\n",
       "      <td>14-02-2017 11:15</td>\n",
       "      <td>...</td>\n",
       "      <td>Category 50</td>\n",
       "      <td>Symptom 533</td>\n",
       "      <td>Group 70</td>\n",
       "      <td>NaN</td>\n",
       "      <td>0</td>\n",
       "      <td>0</td>\n",
       "      <td>3 - Low</td>\n",
       "      <td>Do Not Notify</td>\n",
       "      <td>NaN</td>\n",
       "      <td>NaN</td>\n",
       "    </tr>\n",
       "    <tr>\n",
       "      <th>99177</th>\n",
       "      <td>141689</td>\n",
       "      <td>INC0119987</td>\n",
       "      <td>Closed</td>\n",
       "      <td>0</td>\n",
       "      <td>0</td>\n",
       "      <td>0</td>\n",
       "      <td>1</td>\n",
       "      <td>Caller 831</td>\n",
       "      <td>Opened by  508</td>\n",
       "      <td>14-02-2017 11:15</td>\n",
       "      <td>...</td>\n",
       "      <td>Category 50</td>\n",
       "      <td>Symptom 533</td>\n",
       "      <td>Group 70</td>\n",
       "      <td>NaN</td>\n",
       "      <td>0</td>\n",
       "      <td>0</td>\n",
       "      <td>3 - Low</td>\n",
       "      <td>Do Not Notify</td>\n",
       "      <td>NaN</td>\n",
       "      <td>NaN</td>\n",
       "    </tr>\n",
       "    <tr>\n",
       "      <th>99178</th>\n",
       "      <td>141690</td>\n",
       "      <td>INC0120268</td>\n",
       "      <td>New</td>\n",
       "      <td>0</td>\n",
       "      <td>0</td>\n",
       "      <td>0</td>\n",
       "      <td>0</td>\n",
       "      <td>Caller 1057</td>\n",
       "      <td>Opened by  508</td>\n",
       "      <td>14-02-2017 18:31</td>\n",
       "      <td>...</td>\n",
       "      <td>Category 50</td>\n",
       "      <td>Symptom 533</td>\n",
       "      <td>Group 70</td>\n",
       "      <td>NaN</td>\n",
       "      <td>0</td>\n",
       "      <td>0</td>\n",
       "      <td>3 - Low</td>\n",
       "      <td>Do Not Notify</td>\n",
       "      <td>NaN</td>\n",
       "      <td>NaN</td>\n",
       "    </tr>\n",
       "    <tr>\n",
       "      <th>99179</th>\n",
       "      <td>141691</td>\n",
       "      <td>INC0120268</td>\n",
       "      <td>Closed</td>\n",
       "      <td>0</td>\n",
       "      <td>0</td>\n",
       "      <td>0</td>\n",
       "      <td>1</td>\n",
       "      <td>Caller 1057</td>\n",
       "      <td>Opened by  508</td>\n",
       "      <td>14-02-2017 18:31</td>\n",
       "      <td>...</td>\n",
       "      <td>Category 50</td>\n",
       "      <td>Symptom 533</td>\n",
       "      <td>Group 70</td>\n",
       "      <td>NaN</td>\n",
       "      <td>0</td>\n",
       "      <td>0</td>\n",
       "      <td>3 - Low</td>\n",
       "      <td>Do Not Notify</td>\n",
       "      <td>NaN</td>\n",
       "      <td>NaN</td>\n",
       "    </tr>\n",
       "    <tr>\n",
       "      <th>99180</th>\n",
       "      <td>141693</td>\n",
       "      <td>INC0120303</td>\n",
       "      <td>Closed</td>\n",
       "      <td>0</td>\n",
       "      <td>0</td>\n",
       "      <td>0</td>\n",
       "      <td>1</td>\n",
       "      <td>Caller 1866</td>\n",
       "      <td>Opened by  508</td>\n",
       "      <td>15-02-2017 01:52</td>\n",
       "      <td>...</td>\n",
       "      <td>Category 50</td>\n",
       "      <td>Symptom 533</td>\n",
       "      <td>Group 70</td>\n",
       "      <td>NaN</td>\n",
       "      <td>0</td>\n",
       "      <td>0</td>\n",
       "      <td>3 - Low</td>\n",
       "      <td>Do Not Notify</td>\n",
       "      <td>NaN</td>\n",
       "      <td>NaN</td>\n",
       "    </tr>\n",
       "    <tr>\n",
       "      <th>99181</th>\n",
       "      <td>141694</td>\n",
       "      <td>INC0120304</td>\n",
       "      <td>Active</td>\n",
       "      <td>0</td>\n",
       "      <td>0</td>\n",
       "      <td>0</td>\n",
       "      <td>0</td>\n",
       "      <td>Caller 90</td>\n",
       "      <td>Opened by  8</td>\n",
       "      <td>15-02-2017 02:02</td>\n",
       "      <td>...</td>\n",
       "      <td>Category 52</td>\n",
       "      <td>Symptom 494</td>\n",
       "      <td>Group 64</td>\n",
       "      <td>Resolver 6</td>\n",
       "      <td>0</td>\n",
       "      <td>0</td>\n",
       "      <td>2 - Medium</td>\n",
       "      <td>Do Not Notify</td>\n",
       "      <td>NaN</td>\n",
       "      <td>NaN</td>\n",
       "    </tr>\n",
       "    <tr>\n",
       "      <th>99182</th>\n",
       "      <td>141695</td>\n",
       "      <td>INC0120304</td>\n",
       "      <td>Resolved</td>\n",
       "      <td>0</td>\n",
       "      <td>0</td>\n",
       "      <td>0</td>\n",
       "      <td>1</td>\n",
       "      <td>Caller 90</td>\n",
       "      <td>Opened by  8</td>\n",
       "      <td>15-02-2017 02:02</td>\n",
       "      <td>...</td>\n",
       "      <td>Category 52</td>\n",
       "      <td>Symptom 494</td>\n",
       "      <td>Group 64</td>\n",
       "      <td>Resolver 6</td>\n",
       "      <td>0</td>\n",
       "      <td>0</td>\n",
       "      <td>2 - Medium</td>\n",
       "      <td>Do Not Notify</td>\n",
       "      <td>NaN</td>\n",
       "      <td>NaN</td>\n",
       "    </tr>\n",
       "    <tr>\n",
       "      <th>99183</th>\n",
       "      <td>141696</td>\n",
       "      <td>INC0120304</td>\n",
       "      <td>Closed</td>\n",
       "      <td>0</td>\n",
       "      <td>0</td>\n",
       "      <td>0</td>\n",
       "      <td>2</td>\n",
       "      <td>Caller 90</td>\n",
       "      <td>Opened by  8</td>\n",
       "      <td>15-02-2017 02:02</td>\n",
       "      <td>...</td>\n",
       "      <td>Category 52</td>\n",
       "      <td>Symptom 494</td>\n",
       "      <td>Group 64</td>\n",
       "      <td>Resolver 6</td>\n",
       "      <td>0</td>\n",
       "      <td>0</td>\n",
       "      <td>2 - Medium</td>\n",
       "      <td>Do Not Notify</td>\n",
       "      <td>NaN</td>\n",
       "      <td>NaN</td>\n",
       "    </tr>\n",
       "    <tr>\n",
       "      <th>99184</th>\n",
       "      <td>141698</td>\n",
       "      <td>INC0120319</td>\n",
       "      <td>Closed</td>\n",
       "      <td>0</td>\n",
       "      <td>0</td>\n",
       "      <td>0</td>\n",
       "      <td>1</td>\n",
       "      <td>Caller 1899</td>\n",
       "      <td>Opened by  508</td>\n",
       "      <td>15-02-2017 07:09</td>\n",
       "      <td>...</td>\n",
       "      <td>Category 50</td>\n",
       "      <td>Symptom 533</td>\n",
       "      <td>Group 70</td>\n",
       "      <td>NaN</td>\n",
       "      <td>0</td>\n",
       "      <td>0</td>\n",
       "      <td>3 - Low</td>\n",
       "      <td>Do Not Notify</td>\n",
       "      <td>NaN</td>\n",
       "      <td>NaN</td>\n",
       "    </tr>\n",
       "    <tr>\n",
       "      <th>99185</th>\n",
       "      <td>141699</td>\n",
       "      <td>INC0120495</td>\n",
       "      <td>New</td>\n",
       "      <td>0</td>\n",
       "      <td>0</td>\n",
       "      <td>0</td>\n",
       "      <td>0</td>\n",
       "      <td>Caller 323</td>\n",
       "      <td>Opened by  14</td>\n",
       "      <td>15-02-2017 11:58</td>\n",
       "      <td>...</td>\n",
       "      <td>Category 59</td>\n",
       "      <td>Symptom 483</td>\n",
       "      <td>Group 73</td>\n",
       "      <td>NaN</td>\n",
       "      <td>0</td>\n",
       "      <td>0</td>\n",
       "      <td>2 - Medium</td>\n",
       "      <td>Do Not Notify</td>\n",
       "      <td>NaN</td>\n",
       "      <td>NaN</td>\n",
       "    </tr>\n",
       "    <tr>\n",
       "      <th>99186</th>\n",
       "      <td>141700</td>\n",
       "      <td>INC0120495</td>\n",
       "      <td>Active</td>\n",
       "      <td>0</td>\n",
       "      <td>0</td>\n",
       "      <td>0</td>\n",
       "      <td>1</td>\n",
       "      <td>Caller 323</td>\n",
       "      <td>Opened by  14</td>\n",
       "      <td>15-02-2017 11:58</td>\n",
       "      <td>...</td>\n",
       "      <td>Category 59</td>\n",
       "      <td>Symptom 483</td>\n",
       "      <td>Group 73</td>\n",
       "      <td>Resolver 168</td>\n",
       "      <td>0</td>\n",
       "      <td>0</td>\n",
       "      <td>2 - Medium</td>\n",
       "      <td>Do Not Notify</td>\n",
       "      <td>NaN</td>\n",
       "      <td>NaN</td>\n",
       "    </tr>\n",
       "    <tr>\n",
       "      <th>99187</th>\n",
       "      <td>141701</td>\n",
       "      <td>INC0120495</td>\n",
       "      <td>Active</td>\n",
       "      <td>0</td>\n",
       "      <td>1</td>\n",
       "      <td>0</td>\n",
       "      <td>2</td>\n",
       "      <td>Caller 323</td>\n",
       "      <td>Opened by  14</td>\n",
       "      <td>15-02-2017 11:58</td>\n",
       "      <td>...</td>\n",
       "      <td>Category 59</td>\n",
       "      <td>Symptom 483</td>\n",
       "      <td>Group 24</td>\n",
       "      <td>NaN</td>\n",
       "      <td>0</td>\n",
       "      <td>0</td>\n",
       "      <td>2 - Medium</td>\n",
       "      <td>Do Not Notify</td>\n",
       "      <td>NaN</td>\n",
       "      <td>NaN</td>\n",
       "    </tr>\n",
       "    <tr>\n",
       "      <th>99188</th>\n",
       "      <td>141702</td>\n",
       "      <td>INC0120495</td>\n",
       "      <td>Active</td>\n",
       "      <td>0</td>\n",
       "      <td>1</td>\n",
       "      <td>0</td>\n",
       "      <td>3</td>\n",
       "      <td>Caller 323</td>\n",
       "      <td>Opened by  14</td>\n",
       "      <td>15-02-2017 11:58</td>\n",
       "      <td>...</td>\n",
       "      <td>Category 59</td>\n",
       "      <td>Symptom 483</td>\n",
       "      <td>Group 24</td>\n",
       "      <td>Resolver 217</td>\n",
       "      <td>0</td>\n",
       "      <td>0</td>\n",
       "      <td>2 - Medium</td>\n",
       "      <td>Do Not Notify</td>\n",
       "      <td>NaN</td>\n",
       "      <td>NaN</td>\n",
       "    </tr>\n",
       "    <tr>\n",
       "      <th>99189</th>\n",
       "      <td>141703</td>\n",
       "      <td>INC0120495</td>\n",
       "      <td>Awaiting User Info</td>\n",
       "      <td>0</td>\n",
       "      <td>1</td>\n",
       "      <td>0</td>\n",
       "      <td>4</td>\n",
       "      <td>Caller 323</td>\n",
       "      <td>Opened by  14</td>\n",
       "      <td>15-02-2017 11:58</td>\n",
       "      <td>...</td>\n",
       "      <td>Category 59</td>\n",
       "      <td>Symptom 483</td>\n",
       "      <td>Group 24</td>\n",
       "      <td>Resolver 217</td>\n",
       "      <td>0</td>\n",
       "      <td>0</td>\n",
       "      <td>2 - Medium</td>\n",
       "      <td>Do Not Notify</td>\n",
       "      <td>NaN</td>\n",
       "      <td>NaN</td>\n",
       "    </tr>\n",
       "    <tr>\n",
       "      <th>99190</th>\n",
       "      <td>141704</td>\n",
       "      <td>INC0120495</td>\n",
       "      <td>Closed</td>\n",
       "      <td>0</td>\n",
       "      <td>1</td>\n",
       "      <td>0</td>\n",
       "      <td>5</td>\n",
       "      <td>Caller 323</td>\n",
       "      <td>Opened by  14</td>\n",
       "      <td>15-02-2017 11:58</td>\n",
       "      <td>...</td>\n",
       "      <td>Category 59</td>\n",
       "      <td>Symptom 483</td>\n",
       "      <td>Group 24</td>\n",
       "      <td>Resolver 217</td>\n",
       "      <td>0</td>\n",
       "      <td>0</td>\n",
       "      <td>2 - Medium</td>\n",
       "      <td>Do Not Notify</td>\n",
       "      <td>NaN</td>\n",
       "      <td>NaN</td>\n",
       "    </tr>\n",
       "    <tr>\n",
       "      <th>99191</th>\n",
       "      <td>141705</td>\n",
       "      <td>INC0120835</td>\n",
       "      <td>Active</td>\n",
       "      <td>0</td>\n",
       "      <td>0</td>\n",
       "      <td>0</td>\n",
       "      <td>0</td>\n",
       "      <td>Caller 116</td>\n",
       "      <td>Opened by  12</td>\n",
       "      <td>16-02-2017 09:09</td>\n",
       "      <td>...</td>\n",
       "      <td>Category 42</td>\n",
       "      <td>Symptom 494</td>\n",
       "      <td>Group 70</td>\n",
       "      <td>Resolver 10</td>\n",
       "      <td>0</td>\n",
       "      <td>0</td>\n",
       "      <td>2 - Medium</td>\n",
       "      <td>Do Not Notify</td>\n",
       "      <td>NaN</td>\n",
       "      <td>NaN</td>\n",
       "    </tr>\n",
       "    <tr>\n",
       "      <th>99192</th>\n",
       "      <td>141706</td>\n",
       "      <td>INC0120835</td>\n",
       "      <td>Active</td>\n",
       "      <td>0</td>\n",
       "      <td>1</td>\n",
       "      <td>0</td>\n",
       "      <td>1</td>\n",
       "      <td>Caller 116</td>\n",
       "      <td>Opened by  12</td>\n",
       "      <td>16-02-2017 09:09</td>\n",
       "      <td>...</td>\n",
       "      <td>Category 42</td>\n",
       "      <td>Symptom 494</td>\n",
       "      <td>Group 31</td>\n",
       "      <td>Resolver 10</td>\n",
       "      <td>0</td>\n",
       "      <td>0</td>\n",
       "      <td>2 - Medium</td>\n",
       "      <td>Do Not Notify</td>\n",
       "      <td>NaN</td>\n",
       "      <td>NaN</td>\n",
       "    </tr>\n",
       "    <tr>\n",
       "      <th>99193</th>\n",
       "      <td>141707</td>\n",
       "      <td>INC0120835</td>\n",
       "      <td>Resolved</td>\n",
       "      <td>0</td>\n",
       "      <td>1</td>\n",
       "      <td>0</td>\n",
       "      <td>3</td>\n",
       "      <td>Caller 116</td>\n",
       "      <td>Opened by  12</td>\n",
       "      <td>16-02-2017 09:09</td>\n",
       "      <td>...</td>\n",
       "      <td>Category 42</td>\n",
       "      <td>Symptom 494</td>\n",
       "      <td>Group 31</td>\n",
       "      <td>Resolver 10</td>\n",
       "      <td>0</td>\n",
       "      <td>0</td>\n",
       "      <td>2 - Medium</td>\n",
       "      <td>Do Not Notify</td>\n",
       "      <td>NaN</td>\n",
       "      <td>NaN</td>\n",
       "    </tr>\n",
       "    <tr>\n",
       "      <th>99194</th>\n",
       "      <td>141708</td>\n",
       "      <td>INC0120835</td>\n",
       "      <td>Closed</td>\n",
       "      <td>0</td>\n",
       "      <td>1</td>\n",
       "      <td>0</td>\n",
       "      <td>4</td>\n",
       "      <td>Caller 116</td>\n",
       "      <td>Opened by  12</td>\n",
       "      <td>16-02-2017 09:09</td>\n",
       "      <td>...</td>\n",
       "      <td>Category 42</td>\n",
       "      <td>Symptom 494</td>\n",
       "      <td>Group 31</td>\n",
       "      <td>Resolver 10</td>\n",
       "      <td>0</td>\n",
       "      <td>0</td>\n",
       "      <td>2 - Medium</td>\n",
       "      <td>Do Not Notify</td>\n",
       "      <td>NaN</td>\n",
       "      <td>NaN</td>\n",
       "    </tr>\n",
       "    <tr>\n",
       "      <th>99195</th>\n",
       "      <td>141709</td>\n",
       "      <td>INC0121064</td>\n",
       "      <td>Active</td>\n",
       "      <td>0</td>\n",
       "      <td>0</td>\n",
       "      <td>0</td>\n",
       "      <td>0</td>\n",
       "      <td>Caller 116</td>\n",
       "      <td>Opened by  12</td>\n",
       "      <td>16-02-2017 14:17</td>\n",
       "      <td>...</td>\n",
       "      <td>Category 42</td>\n",
       "      <td>Symptom 494</td>\n",
       "      <td>Group 70</td>\n",
       "      <td>Resolver 10</td>\n",
       "      <td>0</td>\n",
       "      <td>0</td>\n",
       "      <td>2 - Medium</td>\n",
       "      <td>Do Not Notify</td>\n",
       "      <td>NaN</td>\n",
       "      <td>NaN</td>\n",
       "    </tr>\n",
       "    <tr>\n",
       "      <th>99196</th>\n",
       "      <td>141710</td>\n",
       "      <td>INC0121064</td>\n",
       "      <td>Active</td>\n",
       "      <td>0</td>\n",
       "      <td>1</td>\n",
       "      <td>0</td>\n",
       "      <td>1</td>\n",
       "      <td>Caller 116</td>\n",
       "      <td>Opened by  12</td>\n",
       "      <td>16-02-2017 14:17</td>\n",
       "      <td>...</td>\n",
       "      <td>Category 42</td>\n",
       "      <td>Symptom 494</td>\n",
       "      <td>Group 31</td>\n",
       "      <td>NaN</td>\n",
       "      <td>0</td>\n",
       "      <td>0</td>\n",
       "      <td>2 - Medium</td>\n",
       "      <td>Do Not Notify</td>\n",
       "      <td>NaN</td>\n",
       "      <td>NaN</td>\n",
       "    </tr>\n",
       "    <tr>\n",
       "      <th>99197</th>\n",
       "      <td>141711</td>\n",
       "      <td>INC0121064</td>\n",
       "      <td>Resolved</td>\n",
       "      <td>0</td>\n",
       "      <td>1</td>\n",
       "      <td>0</td>\n",
       "      <td>2</td>\n",
       "      <td>Caller 116</td>\n",
       "      <td>Opened by  12</td>\n",
       "      <td>16-02-2017 14:17</td>\n",
       "      <td>...</td>\n",
       "      <td>Category 42</td>\n",
       "      <td>Symptom 494</td>\n",
       "      <td>Group 31</td>\n",
       "      <td>Resolver 10</td>\n",
       "      <td>0</td>\n",
       "      <td>0</td>\n",
       "      <td>2 - Medium</td>\n",
       "      <td>Do Not Notify</td>\n",
       "      <td>NaN</td>\n",
       "      <td>NaN</td>\n",
       "    </tr>\n",
       "  </tbody>\n",
       "</table>\n",
       "<p>99198 rows × 26 columns</p>\n",
       "</div>"
      ],
      "text/plain": [
       "       Unnamed: 0          ID           ID_status  active  count_reassign  \\\n",
       "0               1  INC0000045                 New       0               0   \n",
       "1               3  INC0000045            Resolved       0               0   \n",
       "2               4  INC0000045              Closed       0               0   \n",
       "3               6  INC0000047              Active       0               1   \n",
       "4               7  INC0000047              Active       0               1   \n",
       "5               9  INC0000047              Active       0               1   \n",
       "6              10  INC0000047              Active       0               1   \n",
       "7              11  INC0000047  Awaiting User Info       0               1   \n",
       "8              13  INC0000047              Closed       0               1   \n",
       "9              14  INC0000057                 New       0               0   \n",
       "10             15  INC0000057                 New       0               0   \n",
       "11             16  INC0000057                 New       0               0   \n",
       "12             17  INC0000057                 New       0               0   \n",
       "13             19  INC0000057            Resolved       0               0   \n",
       "14             20  INC0000057              Closed       0               0   \n",
       "15             21  INC0000060                 New       0               0   \n",
       "16             22  INC0000060              Active       0               0   \n",
       "17             23  INC0000060            Resolved       0               0   \n",
       "18             24  INC0000060              Closed       0               0   \n",
       "19             25  INC0000062                 New       0               0   \n",
       "20             26  INC0000062                 New       0               0   \n",
       "21             27  INC0000062                 New       0               1   \n",
       "22             29  INC0000062                 New       0               1   \n",
       "23             30  INC0000062                 New       0               1   \n",
       "24             32  INC0000062              Closed       0               1   \n",
       "25             33  INC0000063                 New       0               0   \n",
       "26             36  INC0000063                 New       0               0   \n",
       "27             37  INC0000063                 New       0               1   \n",
       "28             38  INC0000063                 New       0               1   \n",
       "29             39  INC0000063            Resolved       0               1   \n",
       "...           ...         ...                 ...     ...             ...   \n",
       "99168      141673  INC0119289                 New       0               0   \n",
       "99169      141675  INC0119390                 New       0               0   \n",
       "99170      141676  INC0119390                 New       0               1   \n",
       "99171      141679  INC0119390              Active       0               3   \n",
       "99172      141680  INC0119390            Resolved       0               3   \n",
       "99173      141681  INC0119390              Closed       0               3   \n",
       "99174      141683  INC0119392              Closed       0               0   \n",
       "99175      141687  INC0119983              Closed       0               0   \n",
       "99176      141688  INC0119987                 New       0               0   \n",
       "99177      141689  INC0119987              Closed       0               0   \n",
       "99178      141690  INC0120268                 New       0               0   \n",
       "99179      141691  INC0120268              Closed       0               0   \n",
       "99180      141693  INC0120303              Closed       0               0   \n",
       "99181      141694  INC0120304              Active       0               0   \n",
       "99182      141695  INC0120304            Resolved       0               0   \n",
       "99183      141696  INC0120304              Closed       0               0   \n",
       "99184      141698  INC0120319              Closed       0               0   \n",
       "99185      141699  INC0120495                 New       0               0   \n",
       "99186      141700  INC0120495              Active       0               0   \n",
       "99187      141701  INC0120495              Active       0               1   \n",
       "99188      141702  INC0120495              Active       0               1   \n",
       "99189      141703  INC0120495  Awaiting User Info       0               1   \n",
       "99190      141704  INC0120495              Closed       0               1   \n",
       "99191      141705  INC0120835              Active       0               0   \n",
       "99192      141706  INC0120835              Active       0               1   \n",
       "99193      141707  INC0120835            Resolved       0               1   \n",
       "99194      141708  INC0120835              Closed       0               1   \n",
       "99195      141709  INC0121064              Active       0               0   \n",
       "99196      141710  INC0121064              Active       0               1   \n",
       "99197      141711  INC0121064            Resolved       0               1   \n",
       "\n",
       "       count_opening  count_updated    ID_caller       opened_by  \\\n",
       "0                  0              0  Caller 2403    Opened by  8   \n",
       "1                  0              3  Caller 2403    Opened by  8   \n",
       "2                  0              4  Caller 2403    Opened by  8   \n",
       "3                  0              1  Caller 2403  Opened by  397   \n",
       "4                  0              2  Caller 2403  Opened by  397   \n",
       "5                  0              4  Caller 2403  Opened by  397   \n",
       "6                  0              5  Caller 2403  Opened by  397   \n",
       "7                  0              6  Caller 2403  Opened by  397   \n",
       "8                  0              8  Caller 2403  Opened by  397   \n",
       "9                  0              0  Caller 4416    Opened by  8   \n",
       "10                 0              1  Caller 4416    Opened by  8   \n",
       "11                 0              2  Caller 4416    Opened by  8   \n",
       "12                 0              3  Caller 4416    Opened by  8   \n",
       "13                 0              5  Caller 4416    Opened by  8   \n",
       "14                 0              6  Caller 4416    Opened by  8   \n",
       "15                 0              0  Caller 4491  Opened by  180   \n",
       "16                 0              1  Caller 4491  Opened by  180   \n",
       "17                 0              2  Caller 4491  Opened by  180   \n",
       "18                 0              3  Caller 4491  Opened by  180   \n",
       "19                 0              0  Caller 3765  Opened by  180   \n",
       "20                 0              1  Caller 3765  Opened by  180   \n",
       "21                 0              2  Caller 3765  Opened by  180   \n",
       "22                 0              4  Caller 3765  Opened by  180   \n",
       "23                 0              5  Caller 3765  Opened by  180   \n",
       "24                 0              7  Caller 3765  Opened by  180   \n",
       "25                 0              0  Caller 2146  Opened by  180   \n",
       "26                 0              3  Caller 2146  Opened by  180   \n",
       "27                 0              4  Caller 2146  Opened by  180   \n",
       "28                 0              5  Caller 2146  Opened by  180   \n",
       "29                 0              6  Caller 2146  Opened by  180   \n",
       "...              ...            ...          ...             ...   \n",
       "99168              0              0  Caller 1094  Opened by  508   \n",
       "99169              0              0  Caller 5100  Opened by  490   \n",
       "99170              0              1  Caller 5100  Opened by  490   \n",
       "99171              0              4  Caller 5100  Opened by  490   \n",
       "99172              0              5  Caller 5100  Opened by  490   \n",
       "99173              0              6  Caller 5100  Opened by  490   \n",
       "99174              0              1  Caller 2403  Opened by  508   \n",
       "99175              0              1   Caller 831  Opened by  508   \n",
       "99176              0              0   Caller 831  Opened by  508   \n",
       "99177              0              1   Caller 831  Opened by  508   \n",
       "99178              0              0  Caller 1057  Opened by  508   \n",
       "99179              0              1  Caller 1057  Opened by  508   \n",
       "99180              0              1  Caller 1866  Opened by  508   \n",
       "99181              0              0    Caller 90    Opened by  8   \n",
       "99182              0              1    Caller 90    Opened by  8   \n",
       "99183              0              2    Caller 90    Opened by  8   \n",
       "99184              0              1  Caller 1899  Opened by  508   \n",
       "99185              0              0   Caller 323   Opened by  14   \n",
       "99186              0              1   Caller 323   Opened by  14   \n",
       "99187              0              2   Caller 323   Opened by  14   \n",
       "99188              0              3   Caller 323   Opened by  14   \n",
       "99189              0              4   Caller 323   Opened by  14   \n",
       "99190              0              5   Caller 323   Opened by  14   \n",
       "99191              0              0   Caller 116   Opened by  12   \n",
       "99192              0              1   Caller 116   Opened by  12   \n",
       "99193              0              3   Caller 116   Opened by  12   \n",
       "99194              0              4   Caller 116   Opened by  12   \n",
       "99195              0              0   Caller 116   Opened by  12   \n",
       "99196              0              1   Caller 116   Opened by  12   \n",
       "99197              0              2   Caller 116   Opened by  12   \n",
       "\n",
       "            opened_time  ...  category_ID user_symptom Support_group  \\\n",
       "0      29-02-2016 01:16  ...  Category 55   Symptom 72      Group 56   \n",
       "1      29-02-2016 01:16  ...  Category 55   Symptom 72      Group 56   \n",
       "2      29-02-2016 01:16  ...  Category 55   Symptom 72      Group 56   \n",
       "3      29-02-2016 04:40  ...  Category 40  Symptom 471      Group 24   \n",
       "4      29-02-2016 04:40  ...  Category 40  Symptom 471      Group 24   \n",
       "5      29-02-2016 04:40  ...  Category 40  Symptom 471      Group 24   \n",
       "6      29-02-2016 04:40  ...  Category 40  Symptom 471      Group 24   \n",
       "7      29-02-2016 04:40  ...  Category 40  Symptom 471      Group 24   \n",
       "8      29-02-2016 04:40  ...  Category 40  Symptom 471      Group 24   \n",
       "9      29-02-2016 06:10  ...  Category 20  Symptom 471      Group 70   \n",
       "10     29-02-2016 06:10  ...  Category 20  Symptom 471      Group 70   \n",
       "11     29-02-2016 06:10  ...  Category 20  Symptom 471      Group 70   \n",
       "12     29-02-2016 06:10  ...  Category 20  Symptom 471      Group 70   \n",
       "13     29-02-2016 06:10  ...  Category 20  Symptom 471      Group 70   \n",
       "14     29-02-2016 06:10  ...  Category 20  Symptom 471      Group 70   \n",
       "15     29-02-2016 06:38  ...   Category 9  Symptom 450      Group 25   \n",
       "16     29-02-2016 06:38  ...   Category 9  Symptom 450      Group 25   \n",
       "17     29-02-2016 06:38  ...   Category 9  Symptom 450      Group 25   \n",
       "18     29-02-2016 06:38  ...   Category 9  Symptom 450      Group 25   \n",
       "19     29-02-2016 06:58  ...  Category 53  Symptom 232      Group 70   \n",
       "20     29-02-2016 06:58  ...  Category 53  Symptom 232      Group 70   \n",
       "21     29-02-2016 06:58  ...  Category 53  Symptom 232      Group 23   \n",
       "22     29-02-2016 06:58  ...  Category 53  Symptom 232      Group 23   \n",
       "23     29-02-2016 06:58  ...  Category 53  Symptom 232      Group 23   \n",
       "24     29-02-2016 06:58  ...  Category 53  Symptom 232      Group 23   \n",
       "25     29-02-2016 07:08  ...  Category 20  Symptom 471      Group 70   \n",
       "26     29-02-2016 07:08  ...  Category 20  Symptom 471      Group 70   \n",
       "27     29-02-2016 07:08  ...  Category 20  Symptom 471      Group 23   \n",
       "28     29-02-2016 07:08  ...  Category 20  Symptom 471      Group 23   \n",
       "29     29-02-2016 07:08  ...  Category 20  Symptom 471      Group 23   \n",
       "...                 ...  ...          ...          ...           ...   \n",
       "99168  13-02-2017 08:56  ...  Category 50  Symptom 533      Group 70   \n",
       "99169  13-02-2017 10:33  ...          NaN          NaN      Group 70   \n",
       "99170  13-02-2017 10:33  ...  Category 45          NaN      Group 31   \n",
       "99171  13-02-2017 10:33  ...  Category 45          NaN      Group 39   \n",
       "99172  13-02-2017 10:33  ...  Category 45          NaN      Group 39   \n",
       "99173  13-02-2017 10:33  ...  Category 45          NaN      Group 39   \n",
       "99174  13-02-2017 10:33  ...  Category 50  Symptom 533      Group 70   \n",
       "99175  14-02-2017 11:11  ...  Category 50  Symptom 533      Group 70   \n",
       "99176  14-02-2017 11:15  ...  Category 50  Symptom 533      Group 70   \n",
       "99177  14-02-2017 11:15  ...  Category 50  Symptom 533      Group 70   \n",
       "99178  14-02-2017 18:31  ...  Category 50  Symptom 533      Group 70   \n",
       "99179  14-02-2017 18:31  ...  Category 50  Symptom 533      Group 70   \n",
       "99180  15-02-2017 01:52  ...  Category 50  Symptom 533      Group 70   \n",
       "99181  15-02-2017 02:02  ...  Category 52  Symptom 494      Group 64   \n",
       "99182  15-02-2017 02:02  ...  Category 52  Symptom 494      Group 64   \n",
       "99183  15-02-2017 02:02  ...  Category 52  Symptom 494      Group 64   \n",
       "99184  15-02-2017 07:09  ...  Category 50  Symptom 533      Group 70   \n",
       "99185  15-02-2017 11:58  ...  Category 59  Symptom 483      Group 73   \n",
       "99186  15-02-2017 11:58  ...  Category 59  Symptom 483      Group 73   \n",
       "99187  15-02-2017 11:58  ...  Category 59  Symptom 483      Group 24   \n",
       "99188  15-02-2017 11:58  ...  Category 59  Symptom 483      Group 24   \n",
       "99189  15-02-2017 11:58  ...  Category 59  Symptom 483      Group 24   \n",
       "99190  15-02-2017 11:58  ...  Category 59  Symptom 483      Group 24   \n",
       "99191  16-02-2017 09:09  ...  Category 42  Symptom 494      Group 70   \n",
       "99192  16-02-2017 09:09  ...  Category 42  Symptom 494      Group 31   \n",
       "99193  16-02-2017 09:09  ...  Category 42  Symptom 494      Group 31   \n",
       "99194  16-02-2017 09:09  ...  Category 42  Symptom 494      Group 31   \n",
       "99195  16-02-2017 14:17  ...  Category 42  Symptom 494      Group 70   \n",
       "99196  16-02-2017 14:17  ...  Category 42  Symptom 494      Group 31   \n",
       "99197  16-02-2017 14:17  ...  Category 42  Symptom 494      Group 31   \n",
       "\n",
       "      support_incharge Doc_knowledge confirmation_check      impact  \\\n",
       "0                  NaN             0                  0  2 - Medium   \n",
       "1                  NaN             0                  0  2 - Medium   \n",
       "2                  NaN             0                  0  2 - Medium   \n",
       "3          Resolver 31             0                  0  2 - Medium   \n",
       "4          Resolver 31             0                  0  2 - Medium   \n",
       "5          Resolver 31             0                  0  2 - Medium   \n",
       "6          Resolver 31             0                  0  2 - Medium   \n",
       "7          Resolver 89             0                  0  2 - Medium   \n",
       "8          Resolver 89             0                  0  2 - Medium   \n",
       "9                  NaN             0                  0  2 - Medium   \n",
       "10                 NaN             0                  0  2 - Medium   \n",
       "11                 NaN             0                  0  2 - Medium   \n",
       "12                 NaN             0                  0  2 - Medium   \n",
       "13          Resolver 6             0                  0  2 - Medium   \n",
       "14          Resolver 6             0                  0  2 - Medium   \n",
       "15        Resolver 125             0                  0  2 - Medium   \n",
       "16        Resolver 125             0                  0  2 - Medium   \n",
       "17        Resolver 125             0                  0  2 - Medium   \n",
       "18        Resolver 125             0                  0  2 - Medium   \n",
       "19                 NaN             0                  0  2 - Medium   \n",
       "20                 NaN             0                  0    1 - High   \n",
       "21                 NaN             0                  0    1 - High   \n",
       "22                 NaN             0                  0    1 - High   \n",
       "23                 NaN             0                  0    1 - High   \n",
       "24                 NaN             0                  0    1 - High   \n",
       "25                 NaN             0                  0  2 - Medium   \n",
       "26                 NaN             0                  0  2 - Medium   \n",
       "27                 NaN             0                  0  2 - Medium   \n",
       "28                 NaN             0                  0  2 - Medium   \n",
       "29                 NaN             0                  0  2 - Medium   \n",
       "...                ...           ...                ...         ...   \n",
       "99168              NaN             0                  0     3 - Low   \n",
       "99169              NaN             0                  0  2 - Medium   \n",
       "99170              NaN             0                  0  2 - Medium   \n",
       "99171      Resolver 36             0                  0  2 - Medium   \n",
       "99172      Resolver 36             0                  0  2 - Medium   \n",
       "99173      Resolver 36             0                  0  2 - Medium   \n",
       "99174              NaN             0                  0     3 - Low   \n",
       "99175              NaN             0                  0     3 - Low   \n",
       "99176              NaN             0                  0     3 - Low   \n",
       "99177              NaN             0                  0     3 - Low   \n",
       "99178              NaN             0                  0     3 - Low   \n",
       "99179              NaN             0                  0     3 - Low   \n",
       "99180              NaN             0                  0     3 - Low   \n",
       "99181       Resolver 6             0                  0  2 - Medium   \n",
       "99182       Resolver 6             0                  0  2 - Medium   \n",
       "99183       Resolver 6             0                  0  2 - Medium   \n",
       "99184              NaN             0                  0     3 - Low   \n",
       "99185              NaN             0                  0  2 - Medium   \n",
       "99186     Resolver 168             0                  0  2 - Medium   \n",
       "99187              NaN             0                  0  2 - Medium   \n",
       "99188     Resolver 217             0                  0  2 - Medium   \n",
       "99189     Resolver 217             0                  0  2 - Medium   \n",
       "99190     Resolver 217             0                  0  2 - Medium   \n",
       "99191      Resolver 10             0                  0  2 - Medium   \n",
       "99192      Resolver 10             0                  0  2 - Medium   \n",
       "99193      Resolver 10             0                  0  2 - Medium   \n",
       "99194      Resolver 10             0                  0  2 - Medium   \n",
       "99195      Resolver 10             0                  0  2 - Medium   \n",
       "99196              NaN             0                  0  2 - Medium   \n",
       "99197      Resolver 10             0                  0  2 - Medium   \n",
       "\n",
       "              notify     problem_ID change_request  \n",
       "0      Do Not Notify            NaN            NaN  \n",
       "1      Do Not Notify            NaN            NaN  \n",
       "2      Do Not Notify            NaN            NaN  \n",
       "3      Do Not Notify            NaN            NaN  \n",
       "4      Do Not Notify            NaN            NaN  \n",
       "5      Do Not Notify            NaN            NaN  \n",
       "6      Do Not Notify            NaN            NaN  \n",
       "7      Do Not Notify            NaN            NaN  \n",
       "8      Do Not Notify            NaN            NaN  \n",
       "9      Do Not Notify            NaN            NaN  \n",
       "10     Do Not Notify            NaN            NaN  \n",
       "11     Do Not Notify  Problem ID  2            NaN  \n",
       "12     Do Not Notify  Problem ID  2            NaN  \n",
       "13     Do Not Notify  Problem ID  2            NaN  \n",
       "14     Do Not Notify  Problem ID  2            NaN  \n",
       "15     Do Not Notify            NaN            NaN  \n",
       "16     Do Not Notify            NaN            NaN  \n",
       "17     Do Not Notify            NaN            NaN  \n",
       "18     Do Not Notify            NaN            NaN  \n",
       "19     Do Not Notify            NaN            NaN  \n",
       "20     Do Not Notify            NaN            NaN  \n",
       "21     Do Not Notify            NaN            NaN  \n",
       "22     Do Not Notify            NaN            NaN  \n",
       "23     Do Not Notify            NaN            NaN  \n",
       "24     Do Not Notify            NaN            NaN  \n",
       "25     Do Not Notify            NaN            NaN  \n",
       "26     Do Not Notify            NaN            NaN  \n",
       "27     Do Not Notify            NaN            NaN  \n",
       "28     Do Not Notify            NaN            NaN  \n",
       "29     Do Not Notify            NaN            NaN  \n",
       "...              ...            ...            ...  \n",
       "99168  Do Not Notify            NaN            NaN  \n",
       "99169  Do Not Notify            NaN            NaN  \n",
       "99170  Do Not Notify            NaN            NaN  \n",
       "99171  Do Not Notify            NaN            NaN  \n",
       "99172  Do Not Notify            NaN            NaN  \n",
       "99173  Do Not Notify            NaN            NaN  \n",
       "99174  Do Not Notify            NaN            NaN  \n",
       "99175  Do Not Notify            NaN            NaN  \n",
       "99176  Do Not Notify            NaN            NaN  \n",
       "99177  Do Not Notify            NaN            NaN  \n",
       "99178  Do Not Notify            NaN            NaN  \n",
       "99179  Do Not Notify            NaN            NaN  \n",
       "99180  Do Not Notify            NaN            NaN  \n",
       "99181  Do Not Notify            NaN            NaN  \n",
       "99182  Do Not Notify            NaN            NaN  \n",
       "99183  Do Not Notify            NaN            NaN  \n",
       "99184  Do Not Notify            NaN            NaN  \n",
       "99185  Do Not Notify            NaN            NaN  \n",
       "99186  Do Not Notify            NaN            NaN  \n",
       "99187  Do Not Notify            NaN            NaN  \n",
       "99188  Do Not Notify            NaN            NaN  \n",
       "99189  Do Not Notify            NaN            NaN  \n",
       "99190  Do Not Notify            NaN            NaN  \n",
       "99191  Do Not Notify            NaN            NaN  \n",
       "99192  Do Not Notify            NaN            NaN  \n",
       "99193  Do Not Notify            NaN            NaN  \n",
       "99194  Do Not Notify            NaN            NaN  \n",
       "99195  Do Not Notify            NaN            NaN  \n",
       "99196  Do Not Notify            NaN            NaN  \n",
       "99197  Do Not Notify            NaN            NaN  \n",
       "\n",
       "[99198 rows x 26 columns]"
      ]
     },
     "execution_count": 68,
     "metadata": {},
     "output_type": "execute_result"
    }
   ],
   "source": [
    "incident"
   ]
  },
  {
   "cell_type": "code",
   "execution_count": 69,
   "metadata": {},
   "outputs": [],
   "source": [
    "new = incident.filter(['active','count_reassign','count_opening','count_updated','Doc_knowledge','confirmation_check'], axis=1)"
   ]
  },
  {
   "cell_type": "code",
   "execution_count": 70,
   "metadata": {},
   "outputs": [
    {
     "data": {
      "text/html": [
       "<div>\n",
       "<style scoped>\n",
       "    .dataframe tbody tr th:only-of-type {\n",
       "        vertical-align: middle;\n",
       "    }\n",
       "\n",
       "    .dataframe tbody tr th {\n",
       "        vertical-align: top;\n",
       "    }\n",
       "\n",
       "    .dataframe thead th {\n",
       "        text-align: right;\n",
       "    }\n",
       "</style>\n",
       "<table border=\"1\" class=\"dataframe\">\n",
       "  <thead>\n",
       "    <tr style=\"text-align: right;\">\n",
       "      <th></th>\n",
       "      <th>active</th>\n",
       "      <th>count_reassign</th>\n",
       "      <th>count_opening</th>\n",
       "      <th>count_updated</th>\n",
       "      <th>Doc_knowledge</th>\n",
       "      <th>confirmation_check</th>\n",
       "    </tr>\n",
       "  </thead>\n",
       "  <tbody>\n",
       "    <tr>\n",
       "      <th>0</th>\n",
       "      <td>0</td>\n",
       "      <td>0</td>\n",
       "      <td>0</td>\n",
       "      <td>0</td>\n",
       "      <td>0</td>\n",
       "      <td>0</td>\n",
       "    </tr>\n",
       "    <tr>\n",
       "      <th>1</th>\n",
       "      <td>0</td>\n",
       "      <td>0</td>\n",
       "      <td>0</td>\n",
       "      <td>3</td>\n",
       "      <td>0</td>\n",
       "      <td>0</td>\n",
       "    </tr>\n",
       "    <tr>\n",
       "      <th>2</th>\n",
       "      <td>0</td>\n",
       "      <td>0</td>\n",
       "      <td>0</td>\n",
       "      <td>4</td>\n",
       "      <td>0</td>\n",
       "      <td>0</td>\n",
       "    </tr>\n",
       "    <tr>\n",
       "      <th>3</th>\n",
       "      <td>0</td>\n",
       "      <td>1</td>\n",
       "      <td>0</td>\n",
       "      <td>1</td>\n",
       "      <td>0</td>\n",
       "      <td>0</td>\n",
       "    </tr>\n",
       "    <tr>\n",
       "      <th>4</th>\n",
       "      <td>0</td>\n",
       "      <td>1</td>\n",
       "      <td>0</td>\n",
       "      <td>2</td>\n",
       "      <td>0</td>\n",
       "      <td>0</td>\n",
       "    </tr>\n",
       "  </tbody>\n",
       "</table>\n",
       "</div>"
      ],
      "text/plain": [
       "   active  count_reassign  count_opening  count_updated  Doc_knowledge  \\\n",
       "0       0               0              0              0              0   \n",
       "1       0               0              0              3              0   \n",
       "2       0               0              0              4              0   \n",
       "3       0               1              0              1              0   \n",
       "4       0               1              0              2              0   \n",
       "\n",
       "   confirmation_check  \n",
       "0                   0  \n",
       "1                   0  \n",
       "2                   0  \n",
       "3                   0  \n",
       "4                   0  "
      ]
     },
     "execution_count": 70,
     "metadata": {},
     "output_type": "execute_result"
    }
   ],
   "source": [
    "new.head(5)"
   ]
  },
  {
   "cell_type": "code",
   "execution_count": 71,
   "metadata": {},
   "outputs": [],
   "source": [
    "df=pd.concat([new,Imputated_data],axis=1)"
   ]
  },
  {
   "cell_type": "code",
   "execution_count": 72,
   "metadata": {},
   "outputs": [
    {
     "name": "stdout",
     "output_type": "stream",
     "text": [
      "<class 'pandas.core.frame.DataFrame'>\n",
      "Int64Index: 99198 entries, 0 to 99197\n",
      "Data columns (total 19 columns):\n",
      "active                99198 non-null int64\n",
      "count_reassign        99198 non-null int64\n",
      "count_opening         99198 non-null int64\n",
      "count_updated         99198 non-null int64\n",
      "Doc_knowledge         99198 non-null int64\n",
      "confirmation_check    99198 non-null int64\n",
      "ID                    99098 non-null float64\n",
      "ID_status             99098 non-null float64\n",
      "ID_caller             99098 non-null object\n",
      "opened_by             99098 non-null object\n",
      "updated_by            99098 non-null float64\n",
      "type_contact          99098 non-null float64\n",
      "location              99098 non-null object\n",
      "category_ID           99098 non-null object\n",
      "user_symptom          99098 non-null object\n",
      "Support_group         99098 non-null object\n",
      "support_incharge      99098 non-null object\n",
      "impact                99098 non-null float64\n",
      "notify                99098 non-null float64\n",
      "dtypes: float64(6), int64(6), object(7)\n",
      "memory usage: 15.1+ MB\n"
     ]
    }
   ],
   "source": [
    "df.info(5)"
   ]
  },
  {
   "cell_type": "code",
   "execution_count": 73,
   "metadata": {},
   "outputs": [
    {
     "data": {
      "text/plain": [
       "active                  0\n",
       "count_reassign          0\n",
       "count_opening           0\n",
       "count_updated           0\n",
       "Doc_knowledge           0\n",
       "confirmation_check      0\n",
       "ID                    100\n",
       "ID_status             100\n",
       "ID_caller             100\n",
       "opened_by             100\n",
       "updated_by            100\n",
       "type_contact          100\n",
       "location              100\n",
       "category_ID           100\n",
       "user_symptom          100\n",
       "Support_group         100\n",
       "support_incharge      100\n",
       "impact                100\n",
       "notify                100\n",
       "dtype: int64"
      ]
     },
     "execution_count": 73,
     "metadata": {},
     "output_type": "execute_result"
    }
   ],
   "source": [
    "df.isna().sum()"
   ]
  },
  {
   "cell_type": "code",
   "execution_count": 74,
   "metadata": {},
   "outputs": [],
   "source": [
    "df.dropna(subset=['category_ID'],inplace=True)"
   ]
  },
  {
   "cell_type": "code",
   "execution_count": 75,
   "metadata": {},
   "outputs": [
    {
     "data": {
      "text/plain": [
       "Index(['active', 'count_reassign', 'count_opening', 'count_updated',\n",
       "       'Doc_knowledge', 'confirmation_check', 'ID', 'ID_status', 'ID_caller',\n",
       "       'opened_by', 'updated_by', 'type_contact', 'location', 'category_ID',\n",
       "       'user_symptom', 'Support_group', 'support_incharge', 'impact',\n",
       "       'notify'],\n",
       "      dtype='object')"
      ]
     },
     "execution_count": 75,
     "metadata": {},
     "output_type": "execute_result"
    }
   ],
   "source": [
    "df.columns"
   ]
  },
  {
   "cell_type": "code",
   "execution_count": 76,
   "metadata": {},
   "outputs": [],
   "source": [
    "X=df.iloc[:,0:17].values"
   ]
  },
  {
   "cell_type": "code",
   "execution_count": 77,
   "metadata": {},
   "outputs": [],
   "source": [
    "y = df.loc[:,'impact'].values"
   ]
  },
  {
   "cell_type": "markdown",
   "metadata": {},
   "source": [
    "## Feature Selection "
   ]
  },
  {
   "cell_type": "code",
   "execution_count": 78,
   "metadata": {},
   "outputs": [],
   "source": [
    "from sklearn.ensemble import ExtraTreesClassifier"
   ]
  },
  {
   "cell_type": "code",
   "execution_count": 79,
   "metadata": {},
   "outputs": [],
   "source": [
    "forest = ExtraTreesClassifier(n_estimators = 10,criterion ='entropy', max_features = 15)"
   ]
  },
  {
   "cell_type": "code",
   "execution_count": 80,
   "metadata": {},
   "outputs": [
    {
     "data": {
      "text/plain": [
       "ExtraTreesClassifier(bootstrap=False, ccp_alpha=0.0, class_weight=None,\n",
       "                     criterion='entropy', max_depth=None, max_features=15,\n",
       "                     max_leaf_nodes=None, max_samples=None,\n",
       "                     min_impurity_decrease=0.0, min_impurity_split=None,\n",
       "                     min_samples_leaf=1, min_samples_split=2,\n",
       "                     min_weight_fraction_leaf=0.0, n_estimators=10, n_jobs=None,\n",
       "                     oob_score=False, random_state=None, verbose=0,\n",
       "                     warm_start=False)"
      ]
     },
     "execution_count": 80,
     "metadata": {},
     "output_type": "execute_result"
    }
   ],
   "source": [
    "forest.fit(X, y) "
   ]
  },
  {
   "cell_type": "code",
   "execution_count": 81,
   "metadata": {},
   "outputs": [],
   "source": [
    "importances = forest.feature_importances_"
   ]
  },
  {
   "cell_type": "code",
   "execution_count": 82,
   "metadata": {},
   "outputs": [],
   "source": [
    "std = np.std([tree.feature_importances_ for tree in forest.estimators_],\n",
    "             axis=0)\n",
    "indices = np.argsort(importances)[::-1]"
   ]
  },
  {
   "cell_type": "code",
   "execution_count": 83,
   "metadata": {},
   "outputs": [],
   "source": [
    "import matplotlib.pyplot as plt"
   ]
  },
  {
   "cell_type": "code",
   "execution_count": 84,
   "metadata": {},
   "outputs": [
    {
     "name": "stdout",
     "output_type": "stream",
     "text": [
      "1. feature 9 (0.243485)\n",
      "2. feature 6 (0.159049)\n",
      "3. feature 13 (0.096927)\n",
      "4. feature 8 (0.087274)\n",
      "5. feature 12 (0.083598)\n",
      "6. feature 16 (0.075333)\n",
      "7. feature 15 (0.063374)\n",
      "8. feature 14 (0.058302)\n",
      "9. feature 1 (0.040004)\n",
      "10. feature 3 (0.039488)\n",
      "11. feature 10 (0.027754)\n",
      "12. feature 7 (0.018560)\n",
      "13. feature 2 (0.003521)\n",
      "14. feature 11 (0.003330)\n",
      "15. feature 5 (0.000000)\n",
      "16. feature 4 (0.000000)\n",
      "17. feature 0 (0.000000)\n"
     ]
    },
    {
     "data": {
      "image/png": "[encoded data removed]",
      "text/plain": [
       "<Figure size 432x288 with 1 Axes>"
      ]
     },
     "metadata": {
      "needs_background": "light"
     },
     "output_type": "display_data"
    }
   ],
   "source": [
    "for f in range(X.shape[1]):\n",
    "    print(\"%d. feature %d (%f)\" % (f + 1, indices[f], importances[indices[f]]))\n",
    "\n",
    "# Plot the feature importances of the forest\n",
    "plt.figure()\n",
    "plt.title(\"Feature importances\")\n",
    "plt.bar(range(X.shape[1]), importances[indices],\n",
    "       color=\"r\", yerr=std[indices], align=\"center\")\n",
    "plt.xticks(range(X.shape[1]), indices)\n",
    "plt.xlim([-1, X.shape[1]])\n",
    "plt.show()"
   ]
  },
  {
   "cell_type": "code",
   "execution_count": 85,
   "metadata": {},
   "outputs": [],
   "source": [
    "# Selecting important features "
   ]
  },
  {
   "cell_type": "code",
   "execution_count": 86,
   "metadata": {},
   "outputs": [],
   "source": [
    "df_train=df.filter(['count_reassign', 'count_updated', 'ID', 'ID_caller', 'opened_by', 'updated_by','location', 'category_ID','user_symptom', 'Support_group', 'support_incharge', 'impact'],axis=1)"
   ]
  },
  {
   "cell_type": "code",
   "execution_count": 87,
   "metadata": {},
   "outputs": [
    {
     "data": {
      "text/html": [
       "<div>\n",
       "<style scoped>\n",
       "    .dataframe tbody tr th:only-of-type {\n",
       "        vertical-align: middle;\n",
       "    }\n",
       "\n",
       "    .dataframe tbody tr th {\n",
       "        vertical-align: top;\n",
       "    }\n",
       "\n",
       "    .dataframe thead th {\n",
       "        text-align: right;\n",
       "    }\n",
       "</style>\n",
       "<table border=\"1\" class=\"dataframe\">\n",
       "  <thead>\n",
       "    <tr style=\"text-align: right;\">\n",
       "      <th></th>\n",
       "      <th>count_reassign</th>\n",
       "      <th>count_updated</th>\n",
       "      <th>ID</th>\n",
       "      <th>ID_caller</th>\n",
       "      <th>opened_by</th>\n",
       "      <th>updated_by</th>\n",
       "      <th>location</th>\n",
       "      <th>category_ID</th>\n",
       "      <th>user_symptom</th>\n",
       "      <th>Support_group</th>\n",
       "      <th>support_incharge</th>\n",
       "      <th>impact</th>\n",
       "    </tr>\n",
       "  </thead>\n",
       "  <tbody>\n",
       "    <tr>\n",
       "      <th>0</th>\n",
       "      <td>0</td>\n",
       "      <td>0</td>\n",
       "      <td>0.0</td>\n",
       "      <td>1455</td>\n",
       "      <td>200</td>\n",
       "      <td>94.0</td>\n",
       "      <td>43</td>\n",
       "      <td>44</td>\n",
       "      <td>491</td>\n",
       "      <td>46</td>\n",
       "      <td>166</td>\n",
       "      <td>1.0</td>\n",
       "    </tr>\n",
       "    <tr>\n",
       "      <th>1</th>\n",
       "      <td>0</td>\n",
       "      <td>3</td>\n",
       "      <td>0.0</td>\n",
       "      <td>1455</td>\n",
       "      <td>200</td>\n",
       "      <td>585.0</td>\n",
       "      <td>43</td>\n",
       "      <td>44</td>\n",
       "      <td>491</td>\n",
       "      <td>46</td>\n",
       "      <td>140</td>\n",
       "      <td>1.0</td>\n",
       "    </tr>\n",
       "    <tr>\n",
       "      <th>2</th>\n",
       "      <td>0</td>\n",
       "      <td>4</td>\n",
       "      <td>0.0</td>\n",
       "      <td>1455</td>\n",
       "      <td>200</td>\n",
       "      <td>681.0</td>\n",
       "      <td>43</td>\n",
       "      <td>44</td>\n",
       "      <td>491</td>\n",
       "      <td>46</td>\n",
       "      <td>124</td>\n",
       "      <td>1.0</td>\n",
       "    </tr>\n",
       "    <tr>\n",
       "      <th>3</th>\n",
       "      <td>1</td>\n",
       "      <td>1</td>\n",
       "      <td>1.0</td>\n",
       "      <td>1455</td>\n",
       "      <td>120</td>\n",
       "      <td>94.0</td>\n",
       "      <td>62</td>\n",
       "      <td>29</td>\n",
       "      <td>344</td>\n",
       "      <td>14</td>\n",
       "      <td>164</td>\n",
       "      <td>1.0</td>\n",
       "    </tr>\n",
       "    <tr>\n",
       "      <th>4</th>\n",
       "      <td>1</td>\n",
       "      <td>2</td>\n",
       "      <td>1.0</td>\n",
       "      <td>1455</td>\n",
       "      <td>120</td>\n",
       "      <td>94.0</td>\n",
       "      <td>62</td>\n",
       "      <td>29</td>\n",
       "      <td>344</td>\n",
       "      <td>14</td>\n",
       "      <td>164</td>\n",
       "      <td>1.0</td>\n",
       "    </tr>\n",
       "  </tbody>\n",
       "</table>\n",
       "</div>"
      ],
      "text/plain": [
       "   count_reassign  count_updated   ID ID_caller opened_by  updated_by  \\\n",
       "0               0              0  0.0      1455       200        94.0   \n",
       "1               0              3  0.0      1455       200       585.0   \n",
       "2               0              4  0.0      1455       200       681.0   \n",
       "3               1              1  1.0      1455       120        94.0   \n",
       "4               1              2  1.0      1455       120        94.0   \n",
       "\n",
       "  location category_ID user_symptom Support_group support_incharge  impact  \n",
       "0       43          44          491            46              166     1.0  \n",
       "1       43          44          491            46              140     1.0  \n",
       "2       43          44          491            46              124     1.0  \n",
       "3       62          29          344            14              164     1.0  \n",
       "4       62          29          344            14              164     1.0  "
      ]
     },
     "execution_count": 87,
     "metadata": {},
     "output_type": "execute_result"
    }
   ],
   "source": [
    "df_train.head(5)"
   ]
  },
  {
   "cell_type": "code",
   "execution_count": 88,
   "metadata": {},
   "outputs": [
    {
     "name": "stdout",
     "output_type": "stream",
     "text": [
      "<class 'pandas.core.frame.DataFrame'>\n",
      "Int64Index: 99098 entries, 0 to 99197\n",
      "Data columns (total 12 columns):\n",
      "count_reassign      99098 non-null int64\n",
      "count_updated       99098 non-null int64\n",
      "ID                  99098 non-null float64\n",
      "ID_caller           99098 non-null object\n",
      "opened_by           99098 non-null object\n",
      "updated_by          99098 non-null float64\n",
      "location            99098 non-null object\n",
      "category_ID         99098 non-null object\n",
      "user_symptom        99098 non-null object\n",
      "Support_group       99098 non-null object\n",
      "support_incharge    99098 non-null object\n",
      "impact              99098 non-null float64\n",
      "dtypes: float64(3), int64(2), object(7)\n",
      "memory usage: 9.8+ MB\n"
     ]
    }
   ],
   "source": [
    "df_train.info()"
   ]
  },
  {
   "cell_type": "markdown",
   "metadata": {},
   "source": [
    "## Spliting into train and test"
   ]
  },
  {
   "cell_type": "code",
   "execution_count": 98,
   "metadata": {},
   "outputs": [],
   "source": [
    "from sklearn.model_selection import train_test_split\n",
    "# Split the data into training and testing sets"
   ]
  },
  {
   "cell_type": "code",
   "execution_count": 99,
   "metadata": {},
   "outputs": [],
   "source": [
    "train_features, test_features, train_labels, test_labels = train_test_split(df_train.iloc[:,0:11], df_train['impact'], test_size = 0.30, random_state =0,stratify=df_train['impact'])"
   ]
  },
  {
   "cell_type": "code",
   "execution_count": 100,
   "metadata": {},
   "outputs": [
    {
     "name": "stdout",
     "output_type": "stream",
     "text": [
      "<class 'pandas.core.frame.DataFrame'>\n",
      "Int64Index: 69368 entries, 73303 to 20726\n",
      "Data columns (total 11 columns):\n",
      "count_reassign      69368 non-null int64\n",
      "count_updated       69368 non-null int64\n",
      "ID                  69368 non-null float64\n",
      "ID_caller           69368 non-null object\n",
      "opened_by           69368 non-null object\n",
      "updated_by          69368 non-null float64\n",
      "location            69368 non-null object\n",
      "category_ID         69368 non-null object\n",
      "user_symptom        69368 non-null object\n",
      "Support_group       69368 non-null object\n",
      "support_incharge    69368 non-null object\n",
      "dtypes: float64(2), int64(2), object(7)\n",
      "memory usage: 6.4+ MB\n"
     ]
    }
   ],
   "source": [
    "train_features.info()"
   ]
  },
  {
   "cell_type": "code",
   "execution_count": 101,
   "metadata": {},
   "outputs": [],
   "source": [
    "from sklearn.preprocessing import MinMaxScaler"
   ]
  },
  {
   "cell_type": "code",
   "execution_count": 102,
   "metadata": {},
   "outputs": [],
   "source": [
    "scaler = MinMaxScaler()"
   ]
  },
  {
   "cell_type": "code",
   "execution_count": 103,
   "metadata": {},
   "outputs": [
    {
     "name": "stdout",
     "output_type": "stream",
     "text": [
      "MinMaxScaler(copy=True, feature_range=(0, 1))\n"
     ]
    }
   ],
   "source": [
    "print(scaler.fit(train_features))"
   ]
  },
  {
   "cell_type": "code",
   "execution_count": 104,
   "metadata": {},
   "outputs": [],
   "source": [
    "train_features_scalar=scaler.fit(train_features)"
   ]
  },
  {
   "cell_type": "code",
   "execution_count": 105,
   "metadata": {},
   "outputs": [],
   "source": [
    "X=df_train.iloc[:,0:11].values"
   ]
  },
  {
   "cell_type": "code",
   "execution_count": 106,
   "metadata": {},
   "outputs": [],
   "source": [
    "y=df_train.loc[:'impact'].values"
   ]
  },
  {
   "cell_type": "markdown",
   "metadata": {},
   "source": [
    "## Model 1(Random Foreest Classifier)"
   ]
  },
  {
   "cell_type": "code",
   "execution_count": 107,
   "metadata": {},
   "outputs": [],
   "source": [
    "from sklearn.ensemble import RandomForestClassifier"
   ]
  },
  {
   "cell_type": "code",
   "execution_count": 108,
   "metadata": {},
   "outputs": [],
   "source": [
    "rf_model = RandomForestClassifier()"
   ]
  },
  {
   "cell_type": "code",
   "execution_count": 109,
   "metadata": {},
   "outputs": [
    {
     "data": {
      "text/plain": [
       "RandomForestClassifier(bootstrap=True, ccp_alpha=0.0, class_weight=None,\n",
       "                       criterion='gini', max_depth=None, max_features='auto',\n",
       "                       max_leaf_nodes=None, max_samples=None,\n",
       "                       min_impurity_decrease=0.0, min_impurity_split=None,\n",
       "                       min_samples_leaf=1, min_samples_split=2,\n",
       "                       min_weight_fraction_leaf=0.0, n_estimators=100,\n",
       "                       n_jobs=None, oob_score=False, random_state=None,\n",
       "                       verbose=0, warm_start=False)"
      ]
     },
     "execution_count": 109,
     "metadata": {},
     "output_type": "execute_result"
    }
   ],
   "source": [
    "rf_model.fit(train_features,train_labels)"
   ]
  },
  {
   "cell_type": "code",
   "execution_count": 110,
   "metadata": {},
   "outputs": [],
   "source": [
    "rf_pred_test = rf_model.predict(test_features)"
   ]
  },
  {
   "cell_type": "code",
   "execution_count": 111,
   "metadata": {},
   "outputs": [],
   "source": [
    "rf_pred_train=rf_model.predict(train_features)"
   ]
  },
  {
   "cell_type": "code",
   "execution_count": 112,
   "metadata": {},
   "outputs": [],
   "source": [
    "from sklearn.metrics import roc_auc_score"
   ]
  },
  {
   "cell_type": "code",
   "execution_count": 113,
   "metadata": {},
   "outputs": [],
   "source": [
    "from sklearn.metrics import accuracy_score"
   ]
  },
  {
   "cell_type": "code",
   "execution_count": 114,
   "metadata": {},
   "outputs": [],
   "source": [
    "import sklearn.metrics as metrics"
   ]
  },
  {
   "cell_type": "code",
   "execution_count": 115,
   "metadata": {},
   "outputs": [
    {
     "name": "stdout",
     "output_type": "stream",
     "text": [
      "              precision    recall  f1-score   support\n",
      "\n",
      "         0.0       1.00      1.00      1.00      1707\n",
      "         1.0       1.00      1.00      1.00     65760\n",
      "         2.0       1.00      1.00      1.00      1901\n",
      "\n",
      "    accuracy                           1.00     69368\n",
      "   macro avg       1.00      1.00      1.00     69368\n",
      "weighted avg       1.00      1.00      1.00     69368\n",
      "\n"
     ]
    }
   ],
   "source": [
    "print(metrics.classification_report(rf_pred_train, train_labels))"
   ]
  },
  {
   "cell_type": "code",
   "execution_count": 116,
   "metadata": {},
   "outputs": [],
   "source": [
    "rf_score_train=accuracy_score(train_labels, rf_pred_train)"
   ]
  },
  {
   "cell_type": "code",
   "execution_count": 117,
   "metadata": {},
   "outputs": [
    {
     "data": {
      "text/plain": [
       "1.0"
      ]
     },
     "execution_count": 117,
     "metadata": {},
     "output_type": "execute_result"
    }
   ],
   "source": [
    "rf_score_train"
   ]
  },
  {
   "cell_type": "code",
   "execution_count": 118,
   "metadata": {},
   "outputs": [],
   "source": [
    "rf_score_test=accuracy_score(test_labels, rf_pred_test)"
   ]
  },
  {
   "cell_type": "code",
   "execution_count": 119,
   "metadata": {},
   "outputs": [
    {
     "data": {
      "text/plain": [
       "0.981096535486041"
      ]
     },
     "execution_count": 119,
     "metadata": {},
     "output_type": "execute_result"
    }
   ],
   "source": [
    "rf_score_test"
   ]
  },
  {
   "cell_type": "code",
   "execution_count": 120,
   "metadata": {},
   "outputs": [
    {
     "name": "stderr",
     "output_type": "stream",
     "text": [
      "UsageError: Line magic function `%` not found.\n"
     ]
    }
   ],
   "source": [
    "import matplotlib.pyplot as plt\n",
    "% matplotlib inline"
   ]
  },
  {
   "cell_type": "code",
   "execution_count": 121,
   "metadata": {},
   "outputs": [
    {
     "data": {
      "image/png": "[encoded data removed]",
      "text/plain": [
       "<Figure size 432x288 with 1 Axes>"
      ]
     },
     "metadata": {
      "needs_background": "light"
     },
     "output_type": "display_data"
    }
   ],
   "source": [
    "from sklearn.metrics import confusion_matrix\n",
    "mat = confusion_matrix(rf_pred_train, train_labels)\n",
    "sns.heatmap(mat.T, square=True, annot=True, fmt='d', cbar=False)\n",
    "plt.xlabel('true label')\n",
    "plt.ylabel('predicted label');"
   ]
  },
  {
   "cell_type": "code",
   "execution_count": 122,
   "metadata": {},
   "outputs": [
    {
     "name": "stdout",
     "output_type": "stream",
     "text": [
      "              precision    recall  f1-score   support\n",
      "\n",
      "         0.0       0.58      0.92      0.71       459\n",
      "         1.0       1.00      0.98      0.99     28632\n",
      "         2.0       0.75      0.96      0.84       639\n",
      "\n",
      "    accuracy                           0.98     29730\n",
      "   macro avg       0.78      0.95      0.85     29730\n",
      "weighted avg       0.99      0.98      0.98     29730\n",
      "\n"
     ]
    }
   ],
   "source": [
    "print(metrics.classification_report(rf_pred_test, test_labels))\n",
    "# Low precision and high recall, need to improve precision as per business objective"
   ]
  },
  {
   "cell_type": "code",
   "execution_count": 123,
   "metadata": {
    "scrolled": true
   },
   "outputs": [
    {
     "data": {
      "image/png": "[encoded data removed]",
      "text/plain": [
       "<Figure size 432x288 with 1 Axes>"
      ]
     },
     "metadata": {
      "needs_background": "light"
     },
     "output_type": "display_data"
    }
   ],
   "source": [
    "from sklearn.metrics import confusion_matrix\n",
    "mat = confusion_matrix(rf_pred_test, test_labels)\n",
    "sns.heatmap(mat.T, square=True, annot=True, fmt='d', cbar=False)\n",
    "plt.xlabel('true label')\n",
    "plt.ylabel('predicted label');"
   ]
  },
  {
   "cell_type": "markdown",
   "metadata": {},
   "source": [
    "# Model 2(Decision tree)"
   ]
  },
  {
   "cell_type": "code",
   "execution_count": 124,
   "metadata": {},
   "outputs": [],
   "source": [
    " from sklearn import tree"
   ]
  },
  {
   "cell_type": "code",
   "execution_count": 125,
   "metadata": {},
   "outputs": [],
   "source": [
    "clf = tree.DecisionTreeClassifier()"
   ]
  },
  {
   "cell_type": "code",
   "execution_count": 126,
   "metadata": {},
   "outputs": [],
   "source": [
    "clf = clf.fit(train_features, train_labels)"
   ]
  },
  {
   "cell_type": "code",
   "execution_count": 127,
   "metadata": {},
   "outputs": [],
   "source": [
    "dtpred_train = clf.predict(train_features)"
   ]
  },
  {
   "cell_type": "code",
   "execution_count": 128,
   "metadata": {},
   "outputs": [],
   "source": [
    "dtpred_test= clf.predict(test_features)"
   ]
  },
  {
   "cell_type": "code",
   "execution_count": 129,
   "metadata": {},
   "outputs": [
    {
     "name": "stdout",
     "output_type": "stream",
     "text": [
      "              precision    recall  f1-score   support\n",
      "\n",
      "         0.0       1.00      1.00      1.00      1707\n",
      "         1.0       1.00      1.00      1.00     65760\n",
      "         2.0       1.00      1.00      1.00      1901\n",
      "\n",
      "    accuracy                           1.00     69368\n",
      "   macro avg       1.00      1.00      1.00     69368\n",
      "weighted avg       1.00      1.00      1.00     69368\n",
      "\n"
     ]
    }
   ],
   "source": [
    "print(metrics.classification_report(dtpred_train, train_labels))"
   ]
  },
  {
   "cell_type": "code",
   "execution_count": 130,
   "metadata": {},
   "outputs": [],
   "source": [
    "score_train=accuracy_score(train_labels, dtpred_train)"
   ]
  },
  {
   "cell_type": "code",
   "execution_count": 131,
   "metadata": {},
   "outputs": [
    {
     "data": {
      "text/plain": [
       "1.0"
      ]
     },
     "execution_count": 131,
     "metadata": {},
     "output_type": "execute_result"
    }
   ],
   "source": [
    "score_train"
   ]
  },
  {
   "cell_type": "code",
   "execution_count": 132,
   "metadata": {},
   "outputs": [
    {
     "name": "stdout",
     "output_type": "stream",
     "text": [
      "              precision    recall  f1-score   support\n",
      "\n",
      "         0.0       0.74      0.68      0.71       807\n",
      "         1.0       0.99      0.99      0.99     28082\n",
      "         2.0       0.88      0.85      0.87       841\n",
      "\n",
      "    accuracy                           0.98     29730\n",
      "   macro avg       0.87      0.84      0.85     29730\n",
      "weighted avg       0.98      0.98      0.98     29730\n",
      "\n"
     ]
    }
   ],
   "source": [
    "print(metrics.classification_report(dtpred_test, test_labels))\n",
    "# Better results as precision and recall for hig impact are more balaanced than random forest model"
   ]
  },
  {
   "cell_type": "code",
   "execution_count": 133,
   "metadata": {},
   "outputs": [],
   "source": [
    "from sklearn.metrics import accuracy_score"
   ]
  },
  {
   "cell_type": "code",
   "execution_count": 134,
   "metadata": {},
   "outputs": [],
   "source": [
    "score_test = accuracy_score(test_labels, dtpred_test)"
   ]
  },
  {
   "cell_type": "code",
   "execution_count": 135,
   "metadata": {},
   "outputs": [
    {
     "data": {
      "text/plain": [
       "0.9779683821056172"
      ]
     },
     "execution_count": 135,
     "metadata": {},
     "output_type": "execute_result"
    }
   ],
   "source": [
    "score_test"
   ]
  },
  {
   "cell_type": "code",
   "execution_count": 136,
   "metadata": {},
   "outputs": [
    {
     "data": {
      "image/png": "[encoded data removed]",
      "text/plain": [
       "<Figure size 432x288 with 1 Axes>"
      ]
     },
     "metadata": {
      "needs_background": "light"
     },
     "output_type": "display_data"
    }
   ],
   "source": [
    "from sklearn.metrics import confusion_matrix\n",
    "mat = confusion_matrix(dtpred_test, test_labels)\n",
    "sns.heatmap(mat.T, square=True, annot=True, fmt='d', cbar=False)\n",
    "plt.xlabel('true label')\n",
    "plt.ylabel('predicted label');"
   ]
  },
  {
   "cell_type": "markdown",
   "metadata": {},
   "source": [
    "# Model 3(KNN )"
   ]
  },
  {
   "cell_type": "code",
   "execution_count": 137,
   "metadata": {},
   "outputs": [],
   "source": [
    "from sklearn.neighbors import KNeighborsClassifier"
   ]
  },
  {
   "cell_type": "code",
   "execution_count": 138,
   "metadata": {},
   "outputs": [],
   "source": [
    "neigh = KNeighborsClassifier(n_neighbors=4)"
   ]
  },
  {
   "cell_type": "code",
   "execution_count": 139,
   "metadata": {},
   "outputs": [
    {
     "data": {
      "text/plain": [
       "KNeighborsClassifier(algorithm='auto', leaf_size=30, metric='minkowski',\n",
       "                     metric_params=None, n_jobs=None, n_neighbors=4, p=2,\n",
       "                     weights='uniform')"
      ]
     },
     "execution_count": 139,
     "metadata": {},
     "output_type": "execute_result"
    }
   ],
   "source": [
    "neigh.fit(train_features, train_labels)"
   ]
  },
  {
   "cell_type": "code",
   "execution_count": 140,
   "metadata": {},
   "outputs": [],
   "source": [
    "knnpred_train = neigh.predict(train_features)"
   ]
  },
  {
   "cell_type": "code",
   "execution_count": 141,
   "metadata": {},
   "outputs": [
    {
     "name": "stdout",
     "output_type": "stream",
     "text": [
      "              precision    recall  f1-score   support\n",
      "\n",
      "         0.0       0.76      0.69      0.73      1882\n",
      "         1.0       0.99      0.98      0.99     66397\n",
      "         2.0       0.52      0.91      0.66      1089\n",
      "\n",
      "    accuracy                           0.97     69368\n",
      "   macro avg       0.76      0.86      0.79     69368\n",
      "weighted avg       0.98      0.97      0.97     69368\n",
      "\n"
     ]
    }
   ],
   "source": [
    "print(metrics.classification_report(knnpred_train, train_labels))"
   ]
  },
  {
   "cell_type": "code",
   "execution_count": 142,
   "metadata": {},
   "outputs": [],
   "source": [
    "knn_score_train = accuracy_score(train_labels, knnpred_train)"
   ]
  },
  {
   "cell_type": "code",
   "execution_count": 143,
   "metadata": {},
   "outputs": [
    {
     "data": {
      "text/plain": [
       "0.9718458078652982"
      ]
     },
     "execution_count": 143,
     "metadata": {},
     "output_type": "execute_result"
    }
   ],
   "source": [
    "knn_score_train"
   ]
  },
  {
   "cell_type": "code",
   "execution_count": 144,
   "metadata": {},
   "outputs": [],
   "source": [
    "knnpred_test=neigh.predict(test_features)"
   ]
  },
  {
   "cell_type": "code",
   "execution_count": 145,
   "metadata": {},
   "outputs": [
    {
     "name": "stdout",
     "output_type": "stream",
     "text": [
      "              precision    recall  f1-score   support\n",
      "\n",
      "         0.0       0.49      0.48      0.49       746\n",
      "         1.0       0.98      0.97      0.98     28586\n",
      "         2.0       0.38      0.78      0.51       398\n",
      "\n",
      "    accuracy                           0.96     29730\n",
      "   macro avg       0.62      0.74      0.66     29730\n",
      "weighted avg       0.96      0.96      0.96     29730\n",
      "\n"
     ]
    }
   ],
   "source": [
    "print(metrics.classification_report(knnpred_test, test_labels))"
   ]
  },
  {
   "cell_type": "code",
   "execution_count": 146,
   "metadata": {},
   "outputs": [],
   "source": [
    "knn_score_train = accuracy_score(test_labels, knnpred_test)"
   ]
  },
  {
   "cell_type": "code",
   "execution_count": null,
   "metadata": {},
   "outputs": [],
   "source": [
    "knn_score_train"
   ]
  },
  {
   "cell_type": "code",
   "execution_count": null,
   "metadata": {},
   "outputs": [],
   "source": [
    "from sklearn.metrics import confusion_matrix\n",
    "mat = confusion_matrix(knnpred_test, test_labels)\n",
    "sns.heatmap(mat.T, square=True, annot=True, fmt='d', cbar=False)\n",
    "plt.xlabel('true label')\n",
    "plt.ylabel('predicted label');"
   ]
  },
  {
   "cell_type": "markdown",
   "metadata": {},
   "source": [
    "## Balancing minority low and high impact incidents using SMOTE Tomek"
   ]
  },
  {
   "cell_type": "code",
   "execution_count": 147,
   "metadata": {},
   "outputs": [],
   "source": [
    "from imblearn.combine import SMOTETomek"
   ]
  },
  {
   "cell_type": "code",
   "execution_count": 148,
   "metadata": {},
   "outputs": [],
   "source": [
    "smote_tomek = SMOTETomek(random_state=0)"
   ]
  },
  {
   "cell_type": "code",
   "execution_count": 149,
   "metadata": {},
   "outputs": [],
   "source": [
    "X_resampled_uo, y_resampled_uo = smote_tomek.fit_resample(train_features, train_labels)"
   ]
  },
  {
   "cell_type": "code",
   "execution_count": 151,
   "metadata": {},
   "outputs": [],
   "source": [
    "rf_uo= RandomForestClassifier()"
   ]
  },
  {
   "cell_type": "code",
   "execution_count": 152,
   "metadata": {},
   "outputs": [
    {
     "data": {
      "text/plain": [
       "RandomForestClassifier(bootstrap=True, ccp_alpha=0.0, class_weight=None,\n",
       "                       criterion='gini', max_depth=None, max_features='auto',\n",
       "                       max_leaf_nodes=None, max_samples=None,\n",
       "                       min_impurity_decrease=0.0, min_impurity_split=None,\n",
       "                       min_samples_leaf=1, min_samples_split=2,\n",
       "                       min_weight_fraction_leaf=0.0, n_estimators=100,\n",
       "                       n_jobs=None, oob_score=False, random_state=None,\n",
       "                       verbose=0, warm_start=False)"
      ]
     },
     "execution_count": 152,
     "metadata": {},
     "output_type": "execute_result"
    }
   ],
   "source": [
    "rf_uo.fit(X_resampled_uo, y_resampled_uo)"
   ]
  },
  {
   "cell_type": "code",
   "execution_count": 154,
   "metadata": {},
   "outputs": [],
   "source": [
    "rf_pred_uo = rf_uo.predict(test_features)"
   ]
  },
  {
   "cell_type": "code",
   "execution_count": 155,
   "metadata": {},
   "outputs": [],
   "source": [
    "from sklearn.metrics import accuracy_score\n",
    "import sklearn.metrics as metrics"
   ]
  },
  {
   "cell_type": "code",
   "execution_count": 156,
   "metadata": {},
   "outputs": [],
   "source": [
    "rf_score_test=accuracy_score(test_labels,rf_pred_uo)"
   ]
  },
  {
   "cell_type": "code",
   "execution_count": 158,
   "metadata": {},
   "outputs": [
    {
     "data": {
      "text/plain": [
       "0.9786747393205516"
      ]
     },
     "execution_count": 158,
     "metadata": {},
     "output_type": "execute_result"
    }
   ],
   "source": [
    "rf_score_test"
   ]
  },
  {
   "cell_type": "code",
   "execution_count": 159,
   "metadata": {},
   "outputs": [
    {
     "name": "stdout",
     "output_type": "stream",
     "text": [
      "              precision    recall  f1-score   support\n",
      "\n",
      "         0.0       0.67      0.79      0.72       623\n",
      "         1.0       0.99      0.99      0.99     28315\n",
      "         2.0       0.81      0.84      0.83       792\n",
      "\n",
      "    accuracy                           0.98     29730\n",
      "   macro avg       0.83      0.87      0.85     29730\n",
      "weighted avg       0.98      0.98      0.98     29730\n",
      "\n"
     ]
    }
   ],
   "source": [
    "print(metrics.classification_report(rf_pred_uo,test_labels))"
   ]
  },
  {
   "cell_type": "code",
   "execution_count": 163,
   "metadata": {},
   "outputs": [],
   "source": [
    "from sklearn.model_selection import StratifiedKFold\n",
    "from sklearn.model_selection import GridSearchCV"
   ]
  },
  {
   "cell_type": "code",
   "execution_count": 161,
   "metadata": {},
   "outputs": [],
   "source": [
    "param_grid = {\n",
    "    \n",
    "    'n_estimators': [20, 40, 60, 100],\n",
    "    }"
   ]
  },
  {
   "cell_type": "markdown",
   "metadata": {},
   "source": [
    "## GridSearch with cross validation"
   ]
  },
  {
   "cell_type": "code",
   "execution_count": 164,
   "metadata": {},
   "outputs": [],
   "source": [
    "grid_search = GridSearchCV(estimator = rf_uo, param_grid = param_grid,cv = 5, n_jobs = -1, verbose =2,scoring='f1_micro')"
   ]
  },
  {
   "cell_type": "code",
   "execution_count": 165,
   "metadata": {},
   "outputs": [
    {
     "name": "stdout",
     "output_type": "stream",
     "text": [
      "Fitting 5 folds for each of 4 candidates, totalling 20 fits\n"
     ]
    },
    {
     "name": "stderr",
     "output_type": "stream",
     "text": [
      "[Parallel(n_jobs=-1)]: Using backend LokyBackend with 4 concurrent workers.\n",
      "[Parallel(n_jobs=-1)]: Done  20 out of  20 | elapsed:  3.3min finished\n"
     ]
    },
    {
     "data": {
      "text/plain": [
       "GridSearchCV(cv=5, error_score=nan,\n",
       "             estimator=RandomForestClassifier(bootstrap=True, ccp_alpha=0.0,\n",
       "                                              class_weight=None,\n",
       "                                              criterion='gini', max_depth=None,\n",
       "                                              max_features='auto',\n",
       "                                              max_leaf_nodes=None,\n",
       "                                              max_samples=None,\n",
       "                                              min_impurity_decrease=0.0,\n",
       "                                              min_impurity_split=None,\n",
       "                                              min_samples_leaf=1,\n",
       "                                              min_samples_split=2,\n",
       "                                              min_weight_fraction_leaf=0.0,\n",
       "                                              n_estimators=100, n_jobs=None,\n",
       "                                              oob_score=False,\n",
       "                                              random_state=None, verbose=0,\n",
       "                                              warm_start=False),\n",
       "             iid='deprecated', n_jobs=-1,\n",
       "             param_grid={'n_estimators': [20, 40, 60, 100]},\n",
       "             pre_dispatch='2*n_jobs', refit=True, return_train_score=False,\n",
       "             scoring='f1_micro', verbose=2)"
      ]
     },
     "execution_count": 165,
     "metadata": {},
     "output_type": "execute_result"
    }
   ],
   "source": [
    "grid_search.fit(train_features, train_labels)"
   ]
  },
  {
   "cell_type": "code",
   "execution_count": 166,
   "metadata": {},
   "outputs": [],
   "source": [
    "rf_pred_grid = grid_search.predict(test_features)"
   ]
  },
  {
   "cell_type": "code",
   "execution_count": 177,
   "metadata": {},
   "outputs": [],
   "source": [
    "rf_score_test=accuracy_score(test_labels,rf_pred_grid)"
   ]
  },
  {
   "cell_type": "code",
   "execution_count": 178,
   "metadata": {},
   "outputs": [
    {
     "data": {
      "text/plain": [
       "0.9806592667339388"
      ]
     },
     "execution_count": 178,
     "metadata": {},
     "output_type": "execute_result"
    }
   ],
   "source": [
    "rf_score_test"
   ]
  },
  {
   "cell_type": "markdown",
   "metadata": {},
   "source": [
    "## Ensemble model on balanced data "
   ]
  },
  {
   "cell_type": "code",
   "execution_count": 179,
   "metadata": {},
   "outputs": [],
   "source": [
    "clf_uo_1 = DecisionTreeClassifier()\n",
    "clf_uo_2 = RandomForestClassifier(bootstrap=True, ccp_alpha=0.0,\n",
    "                                              class_weight=None,\n",
    "                                              criterion='gini', max_depth=None,\n",
    "                                              max_features='auto',\n",
    "                                              max_leaf_nodes=None,\n",
    "                                              max_samples=None,\n",
    "                                              min_impurity_decrease=0.0,\n",
    "                                              min_impurity_split=None,\n",
    "                                              min_samples_leaf=1,\n",
    "                                              min_samples_split=2,\n",
    "                                              min_weight_fraction_leaf=0.0,\n",
    "                                              n_estimators=100, n_jobs=None,\n",
    "                                              oob_score=False,\n",
    "                                              random_state=None, verbose=0,\n",
    "                                              warm_start=False)\n",
    "clf_uo_3= KNeighborsClassifier(algorithm='auto', leaf_size=30, metric='hamming',metric_params=None, n_jobs=None, n_neighbors=9,weights='uniform')"
   ]
  },
  {
   "cell_type": "code",
   "execution_count": 180,
   "metadata": {},
   "outputs": [],
   "source": [
    "eclf_uo = VotingClassifier(estimators=[('dt', clf_uo_1), ('rf', clf_uo_2), ('knn', clf_uo_3)], voting='soft')"
   ]
  },
  {
   "cell_type": "code",
   "execution_count": 181,
   "metadata": {},
   "outputs": [
    {
     "data": {
      "text/plain": [
       "VotingClassifier(estimators=[('dt',\n",
       "                              DecisionTreeClassifier(ccp_alpha=0.0,\n",
       "                                                     class_weight=None,\n",
       "                                                     criterion='gini',\n",
       "                                                     max_depth=None,\n",
       "                                                     max_features=None,\n",
       "                                                     max_leaf_nodes=None,\n",
       "                                                     min_impurity_decrease=0.0,\n",
       "                                                     min_impurity_split=None,\n",
       "                                                     min_samples_leaf=1,\n",
       "                                                     min_samples_split=2,\n",
       "                                                     min_weight_fraction_leaf=0.0,\n",
       "                                                     presort='deprecated',\n",
       "                                                     random_state=None,\n",
       "                                                     splitter='best')),\n",
       "                             ('rf',\n",
       "                              RandomFor...\n",
       "                                                     min_samples_leaf=1,\n",
       "                                                     min_samples_split=2,\n",
       "                                                     min_weight_fraction_leaf=0.0,\n",
       "                                                     n_estimators=100,\n",
       "                                                     n_jobs=None,\n",
       "                                                     oob_score=False,\n",
       "                                                     random_state=None,\n",
       "                                                     verbose=0,\n",
       "                                                     warm_start=False)),\n",
       "                             ('knn',\n",
       "                              KNeighborsClassifier(algorithm='auto',\n",
       "                                                   leaf_size=30,\n",
       "                                                   metric='hamming',\n",
       "                                                   metric_params=None,\n",
       "                                                   n_jobs=None, n_neighbors=9,\n",
       "                                                   p=2, weights='uniform'))],\n",
       "                 flatten_transform=True, n_jobs=None, voting='soft',\n",
       "                 weights=None)"
      ]
     },
     "execution_count": 181,
     "metadata": {},
     "output_type": "execute_result"
    }
   ],
   "source": [
    "eclf_uo.fit(X_resampled_uo, y_resampled_uo)"
   ]
  },
  {
   "cell_type": "code",
   "execution_count": 182,
   "metadata": {},
   "outputs": [],
   "source": [
    "eclf_test_uo=eclf_uo.predict(test_features)"
   ]
  },
  {
   "cell_type": "code",
   "execution_count": 183,
   "metadata": {},
   "outputs": [
    {
     "name": "stdout",
     "output_type": "stream",
     "text": [
      "              precision    recall  f1-score   support\n",
      "\n",
      "         0.0       0.72      0.74      0.73       732\n",
      "         1.0       0.99      0.99      0.99     28184\n",
      "         2.0       0.83      0.85      0.84       814\n",
      "\n",
      "    accuracy                           0.98     29730\n",
      "   macro avg       0.85      0.86      0.85     29730\n",
      "weighted avg       0.98      0.98      0.98     29730\n",
      "\n"
     ]
    }
   ],
   "source": [
    "print(metrics.classification_report(test_labels,eclf_test_uo))"
   ]
  },
  {
   "cell_type": "code",
   "execution_count": 184,
   "metadata": {},
   "outputs": [
    {
     "data": {
      "image/png": "[encoded data removed]",
      "text/plain": [
       "<Figure size 432x288 with 1 Axes>"
      ]
     },
     "metadata": {
      "needs_background": "light"
     },
     "output_type": "display_data"
    }
   ],
   "source": [
    "from sklearn.metrics import confusion_matrix\n",
    "mat = confusion_matrix( test_labels, eclf_test_uo)\n",
    "sns.heatmap(mat.T, square=True, annot=True, fmt='d', cbar=False)\n",
    "plt.xlabel('predicted label')\n",
    "plt.ylabel('true label');"
   ]
  },
  {
   "cell_type": "code",
   "execution_count": 185,
   "metadata": {},
   "outputs": [
    {
     "data": {
      "image/png": "[encoded data removed]",
      "text/plain": [
       "<Figure size 432x288 with 1 Axes>"
      ]
     },
     "metadata": {
      "needs_background": "light"
     },
     "output_type": "display_data"
    }
   ],
   "source": [
    "from sklearn.metrics import confusion_matrix\n",
    "mat = confusion_matrix( test_labels, eclf_test_uo)\n",
    "sns.heatmap(mat.T, square=True, annot=True, fmt='d', cbar=False)\n",
    "plt.xlabel('predicted label')\n",
    "plt.ylabel('true label');"
   ]
  },
  {
   "cell_type": "markdown",
   "metadata": {},
   "source": [
    "##  Ensemble model on balanced data with  gridsearch cross validation "
   ]
  },
  {
   "cell_type": "code",
   "execution_count": null,
   "metadata": {},
   "outputs": [],
   "source": [
    "#create new a knn model\n",
    "knn = KNeighborsClassifier(algorithm='auto', leaf_size=30, metric='hamming',metric_params=None, n_jobs=None,weights='uniform')\n",
    "#create a dictionary of all values we want to test for n_neighbors\n",
    "params_knn = {'n_neighbors': np.arange(1, 25)}\n",
    "#use gridsearch to test all values for n_neighbors\n",
    "knn_gs = GridSearchCV(knn, params_knn, cv=5)\n",
    "#fit model to training data\n",
    "knn_gs.fit(train_features,train_labels)"
   ]
  },
  {
   "cell_type": "code",
   "execution_count": null,
   "metadata": {},
   "outputs": [],
   "source": [
    "#save best model\n",
    "knn_best = knn_gs.best_estimator_\n",
    "#check best n_neigbors value\n",
    "print(knn_gs.best_params_)"
   ]
  },
  {
   "cell_type": "code",
   "execution_count": null,
   "metadata": {},
   "outputs": [],
   "source": [
    "from sklearn.ensemble import RandomForestClassifier\n",
    "#create a new random forest classifier\n",
    "rf = RandomForestClassifier(bootstrap=True, ccp_alpha=0.0,\n",
    "                                              class_weight=None,\n",
    "                                              criterion='gini', max_depth=None,\n",
    "                                              max_features='auto',\n",
    "                                              max_leaf_nodes=None,\n",
    "                                              max_samples=None,\n",
    "                                              min_impurity_decrease=0.0,\n",
    "                                              min_impurity_split=None,\n",
    "                                              min_samples_leaf=1,\n",
    "                                              min_samples_split=2,\n",
    "                                              min_weight_fraction_leaf=0.0,\n",
    "                                             n_jobs=None,\n",
    "                                              oob_score=False,\n",
    "                                              random_state=None, verbose=0,\n",
    "                                              warm_start=False)\n",
    "#create a dictionary of all values we want to test for n_estimators\n",
    "params_rf = {'n_estimators': [50, 100, 200]}\n",
    "#use gridsearch to test all values for n_estimators\n",
    "rf_gs = GridSearchCV(rf, params_rf, cv=5)\n",
    "#fit model to training data\n",
    "rf_gs.fit(train_features,train_labels)"
   ]
  },
  {
   "cell_type": "code",
   "execution_count": null,
   "metadata": {},
   "outputs": [],
   "source": [
    "#save best model\n",
    "rf_best = rf_gs.best_estimator_\n",
    "#check best n_estimators value\n",
    "print(rf_gs.best_params_)\n"
   ]
  },
  {
   "cell_type": "code",
   "execution_count": null,
   "metadata": {},
   "outputs": [],
   "source": [
    "dt = DecisionTreeClassifier(criterion='gini')"
   ]
  },
  {
   "cell_type": "code",
   "execution_count": null,
   "metadata": {},
   "outputs": [],
   "source": [
    "estimators=[(‘knn’, knn_best), (‘rf’, rf_best), (‘decision’, dt)]"
   ]
  },
  {
   "cell_type": "code",
   "execution_count": null,
   "metadata": {},
   "outputs": [],
   "source": [
    "ensemble = VotingClassifier(estimators, voting='soft')"
   ]
  },
  {
   "cell_type": "code",
   "execution_count": null,
   "metadata": {},
   "outputs": [],
   "source": [
    "ensemble_pred=ensemble.predict(test_features)"
   ]
  },
  {
   "cell_type": "code",
   "execution_count": null,
   "metadata": {},
   "outputs": [],
   "source": [
    "print(metrics.classification_report(test_labels,ensemble_pred))"
   ]
  },
  {
   "cell_type": "code",
   "execution_count": null,
   "metadata": {},
   "outputs": [],
   "source": [
    "from sklearn.metrics import confusion_matrix\n",
    "mat = confusion_matrix( test_labels, ensemble_pred)\n",
    "sns.heatmap(mat.T, square=True, annot=True, fmt='d', cbar=False)\n",
    "plt.xlabel('predicted label')\n",
    "plt.ylabel('true label');"
   ]
  }
 ],
 "metadata": {
  "kernelspec": {
   "display_name": "Python 3",
   "language": "python",
   "name": "python3"
  },
  "language_info": {
   "codemirror_mode": {
    "name": "ipython",
    "version": 3
   },
   "file_extension": ".py",
   "mimetype": "text/x-python",
   "name": "python",
   "nbconvert_exporter": "python",
   "pygments_lexer": "ipython3",
   "version": "3.7.3"
  }
 },
 "nbformat": 4,
 "nbformat_minor": 2
}
